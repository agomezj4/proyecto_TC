{
 "cells": [
  {
   "cell_type": "code",
   "execution_count": 1,
   "metadata": {},
   "outputs": [],
   "source": [
    "import polars as pl\n",
    "import sys\n",
    "import yaml\n",
    "import os\n",
    "import numpy as np\n",
    "import pandas as pd"
   ]
  },
  {
   "cell_type": "code",
   "execution_count": 2,
   "metadata": {},
   "outputs": [],
   "source": [
    "sys.path.append('../src/')\n",
    "project_root = os.path.dirname(os.getcwd())"
   ]
  },
  {
   "cell_type": "code",
   "execution_count": 3,
   "metadata": {},
   "outputs": [],
   "source": [
    "# Directorios para los archivos de parámetros y los datos\n",
    "parameters_directory = os.path.join(project_root, 'src', 'parameters')\n",
    "data_raw_directory = os.path.join(project_root, 'data', 'raw')\n",
    "data_processed_directory = os.path.join(project_root, 'data', 'processed')\n",
    "data_features_directory = os.path.join(project_root, 'data', 'featured')\n",
    "data_train_directory = os.path.join(project_root, 'data', 'model_input', 'train')"
   ]
  },
  {
   "cell_type": "code",
   "execution_count": 4,
   "metadata": {},
   "outputs": [],
   "source": [
    "# Lista todos los archivos YAML en el directorio especificado\n",
    "yaml_files = [f for f in os.listdir(parameters_directory) if f.endswith('.yml')]\n",
    "\n",
    "# Diccionario para guardar los parámetros cargados\n",
    "parameters = {}\n",
    "\n",
    "# Carga cada archivo YAML\n",
    "for yaml_file in yaml_files:\n",
    "    with open(os.path.join(parameters_directory, yaml_file), 'r') as file:\n",
    "        data = yaml.safe_load(file)\n",
    "        key_name = f'parameters_{yaml_file.replace(\".yml\", \"\")}'\n",
    "        parameters[key_name] = data"
   ]
  },
  {
   "cell_type": "markdown",
   "metadata": {},
   "source": [
    "PROCESSING DATA"
   ]
  },
  {
   "cell_type": "code",
   "execution_count": 5,
   "metadata": {},
   "outputs": [],
   "source": [
    "# # Nodos\n",
    "# from functions.processing import (validate_tags_pl, \n",
    "#                              validate_dtypes_pl, \n",
    "#                              change_names_pl, \n",
    "#                              change_dtype_pl,\n",
    "#                              delete_accents_pl,\n",
    "#                              standardize_binary_values_pl,\n",
    "#                              impute_missing_values_pl)"
   ]
  },
  {
   "cell_type": "code",
   "execution_count": 6,
   "metadata": {},
   "outputs": [],
   "source": [
    "# tag_dict_path = os.path.join(data_raw_directory, parameters['parameters_catalog']['tag_dict_path'])\n",
    "# raw_data_path = os.path.join(data_raw_directory, parameters['parameters_catalog']['raw_data_path'])\n",
    "# \n",
    "# tag_dict = pl.read_excel(tag_dict_path)\n",
    "# data_raw = pl.read_csv(raw_data_path)"
   ]
  },
  {
   "cell_type": "code",
   "execution_count": 7,
   "metadata": {},
   "outputs": [],
   "source": [
    "# prueba1 = validate_tags_pl(data_raw, tag_dict)"
   ]
  },
  {
   "cell_type": "code",
   "execution_count": 8,
   "metadata": {},
   "outputs": [],
   "source": [
    "# prueba2 = validate_dtypes_pl(prueba1, tag_dict)"
   ]
  },
  {
   "cell_type": "code",
   "execution_count": 9,
   "metadata": {},
   "outputs": [],
   "source": [
    "# prueba3 = change_names_pl(prueba2, tag_dict)"
   ]
  },
  {
   "cell_type": "code",
   "execution_count": 10,
   "metadata": {},
   "outputs": [],
   "source": [
    "# prueba4 = change_dtype_pl(prueba3, tag_dict)"
   ]
  },
  {
   "cell_type": "code",
   "execution_count": 11,
   "metadata": {},
   "outputs": [],
   "source": [
    "# prueba5 = delete_accents_pl(prueba4)"
   ]
  },
  {
   "cell_type": "code",
   "execution_count": 12,
   "metadata": {},
   "outputs": [],
   "source": [
    "# prueba6 = standardize_binary_values_pl(prueba5, parameters['parameters_processing'])"
   ]
  },
  {
   "cell_type": "code",
   "execution_count": 13,
   "metadata": {},
   "outputs": [],
   "source": [
    "# prueba7 = impute_missing_values_pl(prueba6)"
   ]
  },
  {
   "cell_type": "markdown",
   "metadata": {},
   "source": [
    "FEATURING DATA"
   ]
  },
  {
   "cell_type": "code",
   "execution_count": 14,
   "metadata": {},
   "outputs": [],
   "source": [
    "# # Nodos\n",
    "# from functions.featuring import (new_features_pl,\n",
    "#                                  add_target_variable_pl,\n",
    "#                                  one_hot_encoding_pl,\n",
    "#                                  random_forest_selection_pl,\n",
    "#                                  conditional_entropy_selection_pl,\n",
    "#                                  intersect_top_features_pl)`"
   ]
  },
  {
   "cell_type": "code",
   "execution_count": 15,
   "metadata": {},
   "outputs": [],
   "source": [
    "# processed_data_path = os.path.join(data_processed_directory, parameters['parameters_catalog']['processed_data_path'])\n",
    "#\n",
    "# data_processed = pl.read_csv(processed_data_path)"
   ]
  },
  {
   "cell_type": "code",
   "execution_count": 16,
   "metadata": {},
   "outputs": [],
   "source": [
    "# prueba8 = new_features_pl(data_processed, parameters['parameters_featuring'])"
   ]
  },
  {
   "cell_type": "code",
   "execution_count": 17,
   "metadata": {},
   "outputs": [],
   "source": [
    "# target_directory = os.path.join(project_root, 'data', 'processed')\n",
    "# target_path = os.path.join(target_directory, parameters['parameters_catalog']['target_column_path'])\n",
    "# target = pl.read_csv(target_path)\n",
    "# prueba9 = add_target_variable_pl(prueba8, target, parameters['parameters_featuring'])"
   ]
  },
  {
   "cell_type": "code",
   "execution_count": 18,
   "metadata": {},
   "outputs": [],
   "source": [
    "# prueba10 = one_hot_encoding_pl(prueba9, parameters['parameters_featuring'])"
   ]
  },
  {
   "cell_type": "code",
   "execution_count": 19,
   "metadata": {},
   "outputs": [],
   "source": [
    "# prueba11 = random_forest_selection_pl(prueba10, parameters['parameters_featuring'])"
   ]
  },
  {
   "cell_type": "code",
   "execution_count": 20,
   "metadata": {},
   "outputs": [],
   "source": [
    "# prueba12 = conditional_entropy_selection_pl(prueba10, parameters['parameters_featuring'])"
   ]
  },
  {
   "cell_type": "code",
   "execution_count": 21,
   "metadata": {},
   "outputs": [],
   "source": [
    "# prueba13 = intersect_top_features_pl(prueba11, prueba12, prueba10, parameters['parameters_featuring'])"
   ]
  },
  {
   "cell_type": "markdown",
   "metadata": {},
   "source": [
    "MODEL INPUT DATA"
   ]
  },
  {
   "cell_type": "code",
   "execution_count": 22,
   "metadata": {},
   "outputs": [],
   "source": [
    "# # Nodos\n",
    "# from functions.model_input import (min_max_scaler_pl,\n",
    "#                                    balance_target_variable_pl,\n",
    "#                                    train_test_split_pl)"
   ]
  },
  {
   "cell_type": "code",
   "execution_count": 23,
   "metadata": {},
   "outputs": [],
   "source": [
    "# featured_data_path = os.path.join(data_features_directory, parameters['parameters_catalog']['features_data_path'])\n",
    "#\n",
    "# data_featured = pl.read_csv(featured_data_path)"
   ]
  },
  {
   "cell_type": "code",
   "execution_count": 24,
   "metadata": {},
   "outputs": [],
   "source": [
    "# prueba14 = min_max_scaler_pl(data_featured)"
   ]
  },
  {
   "cell_type": "code",
   "execution_count": 25,
   "metadata": {},
   "outputs": [],
   "source": [
    "# prueba15 = balance_target_variable_pl(prueba14, parameters['parameters_model_input'])"
   ]
  },
  {
   "cell_type": "code",
   "execution_count": 26,
   "metadata": {},
   "outputs": [],
   "source": [
    "# prueba16 = train_test_split_pl(prueba15, parameters['parameters_model_input'])"
   ]
  },
  {
   "cell_type": "markdown",
   "metadata": {},
   "source": [
    "MODELS"
   ]
  },
  {
   "cell_type": "code",
   "execution_count": 27,
   "metadata": {
    "jupyter": {
     "is_executing": true
    }
   },
   "outputs": [],
   "source": [
    "# Nodos\n",
    "from functions.models import (train_basic_models_pd)"
   ]
  },
  {
   "cell_type": "code",
   "execution_count": 28,
   "metadata": {},
   "outputs": [],
   "source": [
    "train_data_path = os.path.join(data_train_directory, parameters['parameters_catalog']['train_data_path'])\n",
    "\n",
    "train_data = pd.read_csv(train_data_path)"
   ]
  },
  {
   "cell_type": "code",
   "execution_count": 29,
   "metadata": {},
   "outputs": [
    {
     "name": "stderr",
     "output_type": "stream",
     "text": [
      "INFO:functions.models:Inicio del entrenamiento y evaluación de modelos básicos...\n",
      "INFO:functions.models:Realizando análisis estadístico de comparación\n",
      "INFO:functions.models:Estadístico de Friedman: 90.0, P-value: 2.190570119285308e-19\n"
     ]
    }
   ],
   "source": [
    "prueba17 = train_basic_models_pd(train_data, parameters['parameters_models'])"
   ]
  },
  {
   "cell_type": "code",
   "execution_count": 30,
   "metadata": {},
   "outputs": [
    {
     "data": {
      "text/plain": [
       "{'Logistic Regression': {'accuracy': array([0.76863636, 0.74727273, 0.75954545, 0.76136364, 0.76318182,\n",
       "         0.76216462, 0.77808095, 0.75807185, 0.76989541, 0.77080491,\n",
       "         0.77818182, 0.75136364, 0.76772727, 0.76136364, 0.75545455,\n",
       "         0.75989086, 0.77216917, 0.76307412, 0.76216462, 0.76716689,\n",
       "         0.75818182, 0.76090909, 0.75136364, 0.76363636, 0.76909091,\n",
       "         0.77717144, 0.77444293, 0.75898136, 0.75807185, 0.76989541]),\n",
       "  'precision': array([0.77086495, 0.72056738, 0.74780059, 0.77056962, 0.74714286,\n",
       "         0.75945537, 0.7795858 , 0.74063401, 0.76162791, 0.7630814 ,\n",
       "         0.7898773 , 0.73255814, 0.76888218, 0.75295858, 0.73944687,\n",
       "         0.75299401, 0.76410999, 0.75862069, 0.74053296, 0.75953079,\n",
       "         0.74344023, 0.75872534, 0.74539877, 0.75703704, 0.77321157,\n",
       "         0.77893175, 0.7696793 , 0.73529412, 0.73721591, 0.76946108]),\n",
       "  'recall': array([0.58660508, 0.58592849, 0.58823529, 0.56170704, 0.60322953,\n",
       "         0.57967667, 0.60854503, 0.59353349, 0.60508083, 0.60623557,\n",
       "         0.59468822, 0.58131488, 0.58708189, 0.58708189, 0.58592849,\n",
       "         0.58083141, 0.60969977, 0.58429561, 0.60969977, 0.59815242,\n",
       "         0.58891455, 0.57670127, 0.56055363, 0.5893887 , 0.58592849,\n",
       "         0.60623557, 0.60969977, 0.60623557, 0.59930716, 0.59353349]),\n",
       "  'f1': array([0.66622951, 0.64631043, 0.65848935, 0.64976651, 0.66751755,\n",
       "         0.65749836, 0.68352789, 0.65897436, 0.67438867, 0.67567568,\n",
       "         0.67852437, 0.64823151, 0.66579464, 0.65975373, 0.65379665,\n",
       "         0.65580183, 0.67822736, 0.66014351, 0.66877771, 0.66925065,\n",
       "         0.65721649, 0.65530799, 0.63989467, 0.66277562, 0.66666667,\n",
       "         0.68181818, 0.68041237, 0.66455696, 0.6611465 , 0.67014342])},\n",
       " 'SVM': {'accuracy': array([0.76318182, 0.74909091, 0.76      , 0.75909091, 0.765     ,\n",
       "         0.76443838, 0.7785357 , 0.75261482, 0.77125966, 0.7785357 ,\n",
       "         0.77863636, 0.75045455, 0.76954545, 0.76090909, 0.76045455,\n",
       "         0.75807185, 0.77262392, 0.76489313, 0.7585266 , 0.76716689,\n",
       "         0.75681818, 0.75909091, 0.75318182, 0.76227273, 0.76772727,\n",
       "         0.7794452 , 0.76716689, 0.76580264, 0.76080036, 0.77398818]),\n",
       "  'precision': array([0.74748924, 0.71255061, 0.73839662, 0.75414781, 0.73972603,\n",
       "         0.75144509, 0.7657784 , 0.72176309, 0.75243394, 0.76727786,\n",
       "         0.77745242, 0.72206704, 0.75423729, 0.74115983, 0.73480663,\n",
       "         0.73925501, 0.75558659, 0.75180375, 0.72303595, 0.74789916,\n",
       "         0.72890733, 0.74455733, 0.73410405, 0.74431818, 0.75501433,\n",
       "         0.77098151, 0.74447514, 0.73684211, 0.73287671, 0.76244666]),\n",
       "  'recall': array([0.60161663, 0.60899654, 0.60553633, 0.57670127, 0.62283737,\n",
       "         0.60046189, 0.63048499, 0.60508083, 0.62471132, 0.62817552,\n",
       "         0.61316397, 0.59630911, 0.61591696, 0.60438293, 0.61361015,\n",
       "         0.59584296, 0.62471132, 0.60161663, 0.62702079, 0.61662818,\n",
       "         0.60854503, 0.5916955 , 0.58592849, 0.60438293, 0.60784314,\n",
       "         0.62586605, 0.62240185, 0.63048499, 0.61778291, 0.61893764]),\n",
       "  'f1': array([0.66666667, 0.65671642, 0.66539924, 0.65359477, 0.676268  ,\n",
       "         0.66752246, 0.69157695, 0.65829146, 0.68264984, 0.69079365,\n",
       "         0.68560362, 0.65319015, 0.67809524, 0.66581957, 0.66876179,\n",
       "         0.65984655, 0.68394437, 0.66837716, 0.6716141 , 0.67594937,\n",
       "         0.66331026, 0.65938303, 0.65169981, 0.66709102, 0.67348243,\n",
       "         0.69088591, 0.67798742, 0.67952707, 0.67042607, 0.68323773])},\n",
       " 'KNN': {'accuracy': array([0.82136364, 0.80545455, 0.81909091, 0.82363636, 0.82272727,\n",
       "         0.82082765, 0.82855844, 0.80582083, 0.81309686, 0.81582538,\n",
       "         0.81863636, 0.80272727, 0.81681818, 0.82681818, 0.81954545,\n",
       "         0.81400637, 0.81309686, 0.82264666, 0.81628013, 0.81309686,\n",
       "         0.80409091, 0.81772727, 0.80636364, 0.80545455, 0.81772727,\n",
       "         0.8308322 , 0.82355616, 0.81718963, 0.81946339, 0.81900864]),\n",
       "  'precision': array([0.74059003, 0.71625616, 0.73103448, 0.73878365, 0.73969849,\n",
       "         0.73182711, 0.73853659, 0.72149344, 0.72413793, 0.728444  ,\n",
       "         0.73004926, 0.71080818, 0.7306163 , 0.7415507 , 0.73267327,\n",
       "         0.73057518, 0.72413793, 0.74385246, 0.72427184, 0.72238514,\n",
       "         0.71014493, 0.72843137, 0.72295248, 0.71928072, 0.73872951,\n",
       "         0.74552684, 0.73995984, 0.72437137, 0.72833496, 0.73168317]),\n",
       "  'recall': array([0.84064665, 0.83852364, 0.85582468, 0.85467128, 0.84890427,\n",
       "         0.86027714, 0.87413395, 0.8256351 , 0.84872979, 0.84872979,\n",
       "         0.8556582 , 0.84198385, 0.84775087, 0.86043829, 0.85351788,\n",
       "         0.83602771, 0.84872979, 0.83833718, 0.86143187, 0.85334873,\n",
       "         0.84872979, 0.85697809, 0.82468281, 0.83044983, 0.83160323,\n",
       "         0.86605081, 0.85103926, 0.86489607, 0.86374134, 0.85334873]),\n",
       "  'f1': array([0.78745268, 0.77258236, 0.78852285, 0.79251337, 0.7905478 ,\n",
       "         0.79087049, 0.80063458, 0.77005924, 0.7814992 , 0.784     ,\n",
       "         0.78787879, 0.77085533, 0.78483716, 0.79658302, 0.78849227,\n",
       "         0.77975229, 0.7814992 , 0.78827362, 0.78691983, 0.78242456,\n",
       "         0.77327722, 0.78749338, 0.77047414, 0.77087794, 0.78241997,\n",
       "         0.80128205, 0.79162191, 0.78842105, 0.79027998, 0.78784648])},\n",
       " 'Decision Tree': {'accuracy': array([0.77181818, 0.75681818, 0.77681818, 0.76      , 0.76863636,\n",
       "         0.75943611, 0.78171896, 0.76944065, 0.78262847, 0.77808095,\n",
       "         0.78090909, 0.76909091, 0.77045455, 0.76818182, 0.75863636,\n",
       "         0.77035016, 0.78444748, 0.76443838, 0.76216462, 0.7785357 ,\n",
       "         0.77454545, 0.77545455, 0.75      , 0.76909091, 0.77409091,\n",
       "         0.7785357 , 0.78763074, 0.76989541, 0.7680764 , 0.77307867]),\n",
       "  'precision': array([0.82616487, 0.77483444, 0.81125828, 0.81920904, 0.80862069,\n",
       "         0.80035651, 0.82601351, 0.80683761, 0.82550336, 0.8423913 ,\n",
       "         0.83333333, 0.78904992, 0.82437276, 0.80617496, 0.80107527,\n",
       "         0.81611208, 0.83220339, 0.81751825, 0.78726968, 0.82064298,\n",
       "         0.81355932, 0.82434783, 0.78253119, 0.80168067, 0.83273381,\n",
       "         0.83539823, 0.8192    , 0.79605263, 0.8122807 , 0.81913043]),\n",
       "  'recall': array([0.53233256, 0.53979239, 0.56516724, 0.5017301 , 0.54094579,\n",
       "         0.51847575, 0.56466513, 0.54503464, 0.56812933, 0.5369515 ,\n",
       "         0.55427252, 0.56516724, 0.53056517, 0.54209919, 0.51557093,\n",
       "         0.53810624, 0.5669746 , 0.51732102, 0.54272517, 0.56004619,\n",
       "         0.55427252, 0.5467128 , 0.50634371, 0.55017301, 0.53402537,\n",
       "         0.54503464, 0.59122402, 0.55889145, 0.53464203, 0.54387991]),\n",
       "  'f1': array([0.64747191, 0.63630184, 0.66621346, 0.6223176 , 0.64823773,\n",
       "         0.62929222, 0.67078189, 0.6505858 , 0.67305062, 0.65585331,\n",
       "         0.66574202, 0.65860215, 0.64561404, 0.64827586, 0.62736842,\n",
       "         0.64857342, 0.67445055, 0.63366337, 0.64251538, 0.66575154,\n",
       "         0.65934066, 0.65742025, 0.61484594, 0.65253078, 0.65073788,\n",
       "         0.65967855, 0.68678739, 0.65671642, 0.6448468 , 0.6537127 ])}}"
      ]
     },
     "execution_count": 30,
     "metadata": {},
     "output_type": "execute_result"
    }
   ],
   "source": [
    "prueba17"
   ]
  },
  {
   "cell_type": "code",
   "execution_count": null,
   "metadata": {},
   "outputs": [],
   "source": []
  }
 ],
 "metadata": {
  "kernelspec": {
   "display_name": "Python 3 (ipykernel)",
   "language": "python",
   "name": "python3"
  },
  "language_info": {
   "codemirror_mode": {
    "name": "ipython",
    "version": 3
   },
   "file_extension": ".py",
   "mimetype": "text/x-python",
   "name": "python",
   "nbconvert_exporter": "python",
   "pygments_lexer": "ipython3",
   "version": "3.11.0"
  }
 },
 "nbformat": 4,
 "nbformat_minor": 4
}
