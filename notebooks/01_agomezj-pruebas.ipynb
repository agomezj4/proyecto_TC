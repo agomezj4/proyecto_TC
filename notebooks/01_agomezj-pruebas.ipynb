{
 "cells": [
  {
   "cell_type": "code",
   "execution_count": 52,
   "metadata": {
    "ExecuteTime": {
     "end_time": "2024-05-11T20:44:53.982727Z",
     "start_time": "2024-05-11T20:44:53.826928Z"
    }
   },
   "outputs": [],
   "source": [
    "import polars as pl\n",
    "import sys\n",
    "import yaml\n",
    "import os\n",
    "import numpy as np\n",
    "import pandas as pd"
   ]
  },
  {
   "cell_type": "code",
   "execution_count": 2,
   "metadata": {
    "ExecuteTime": {
     "end_time": "2024-05-11T20:44:56.176010Z",
     "start_time": "2024-05-11T20:44:56.171458Z"
    }
   },
   "outputs": [],
   "source": [
    "sys.path.append('../src/')\n",
    "project_root = os.path.dirname(os.getcwd())"
   ]
  },
  {
   "cell_type": "code",
   "execution_count": 3,
   "metadata": {
    "ExecuteTime": {
     "end_time": "2024-05-11T20:44:56.676726Z",
     "start_time": "2024-05-11T20:44:56.674013Z"
    }
   },
   "outputs": [],
   "source": [
    "# Directorios para los archivos de parámetros y los datos\n",
    "parameters_directory = os.path.join(project_root, 'src', 'parameters')\n",
    "data_raw_directory = os.path.join(project_root, 'data', 'raw')\n",
    "data_processed_directory = os.path.join(project_root, 'data', 'processed')\n",
    "data_features_directory = os.path.join(project_root, 'data', 'features')"
   ]
  },
  {
   "cell_type": "code",
   "execution_count": 4,
   "metadata": {
    "ExecuteTime": {
     "end_time": "2024-05-11T20:44:57.302163Z",
     "start_time": "2024-05-11T20:44:57.294120Z"
    }
   },
   "outputs": [],
   "source": [
    "# Lista todos los archivos YAML en el directorio especificado\n",
    "yaml_files = [f for f in os.listdir(parameters_directory) if f.endswith('.yml')]\n",
    "\n",
    "# Diccionario para guardar los parámetros cargados\n",
    "parameters = {}\n",
    "\n",
    "# Carga cada archivo YAML\n",
    "for yaml_file in yaml_files:\n",
    "    with open(os.path.join(parameters_directory, yaml_file), 'r') as file:\n",
    "        data = yaml.safe_load(file)\n",
    "        key_name = f'parameters_{yaml_file.replace(\".yml\", \"\")}'\n",
    "        parameters[key_name] = data"
   ]
  },
  {
   "cell_type": "markdown",
   "metadata": {},
   "source": [
    "PROCESSING DATA"
   ]
  },
  {
   "cell_type": "code",
   "execution_count": 5,
   "metadata": {
    "ExecuteTime": {
     "end_time": "2024-05-11T20:45:08.062186Z",
     "start_time": "2024-05-11T20:45:08.055786Z"
    }
   },
   "outputs": [],
   "source": [
    "# # Nodos\n",
    "# from functions.processing import (validate_tags_pl, \n",
    "#                              validate_dtypes_pl, \n",
    "#                              change_names_pl, \n",
    "#                              change_dtype_pl,\n",
    "#                              delete_accents_pl,\n",
    "#                              standardize_binary_values_pl,\n",
    "#                              impute_missing_values_pl)"
   ]
  },
  {
   "cell_type": "code",
   "execution_count": 6,
   "metadata": {
    "ExecuteTime": {
     "end_time": "2024-05-11T20:45:08.464638Z",
     "start_time": "2024-05-11T20:45:08.461695Z"
    }
   },
   "outputs": [],
   "source": [
    "# tag_dict_path = os.path.join(data_raw_directory, parameters['parameters_catalog']['tag_dict_path'])\n",
    "# raw_data_path = os.path.join(data_raw_directory, parameters['parameters_catalog']['raw_data_path'])\n",
    "# \n",
    "# tag_dict = pl.read_excel(tag_dict_path)\n",
    "# data_raw = pl.read_csv(raw_data_path)"
   ]
  },
  {
   "cell_type": "code",
   "execution_count": 7,
   "metadata": {
    "ExecuteTime": {
     "end_time": "2024-05-11T20:45:08.869014Z",
     "start_time": "2024-05-11T20:45:08.866632Z"
    }
   },
   "outputs": [],
   "source": [
    "# prueba1 = validate_tags_pl(data_raw, tag_dict)"
   ]
  },
  {
   "cell_type": "code",
   "execution_count": 8,
   "metadata": {
    "ExecuteTime": {
     "end_time": "2024-05-11T20:45:09.131490Z",
     "start_time": "2024-05-11T20:45:09.128202Z"
    }
   },
   "outputs": [],
   "source": [
    "# prueba2 = validate_dtypes_pl(prueba1, tag_dict)"
   ]
  },
  {
   "cell_type": "code",
   "execution_count": 9,
   "metadata": {
    "ExecuteTime": {
     "end_time": "2024-05-11T20:45:09.330863Z",
     "start_time": "2024-05-11T20:45:09.328010Z"
    }
   },
   "outputs": [],
   "source": [
    "# prueba3 = change_names_pl(prueba2, tag_dict)"
   ]
  },
  {
   "cell_type": "code",
   "execution_count": 10,
   "metadata": {
    "ExecuteTime": {
     "end_time": "2024-05-11T20:45:09.528335Z",
     "start_time": "2024-05-11T20:45:09.525684Z"
    }
   },
   "outputs": [],
   "source": [
    "# prueba4 = change_dtype_pl(prueba3, tag_dict)"
   ]
  },
  {
   "cell_type": "code",
   "execution_count": 11,
   "metadata": {
    "ExecuteTime": {
     "end_time": "2024-05-11T20:45:09.684685Z",
     "start_time": "2024-05-11T20:45:09.681785Z"
    }
   },
   "outputs": [],
   "source": [
    "# prueba5 = delete_accents_pl(prueba4)"
   ]
  },
  {
   "cell_type": "code",
   "execution_count": 12,
   "metadata": {
    "ExecuteTime": {
     "end_time": "2024-05-11T20:45:09.859738Z",
     "start_time": "2024-05-11T20:45:09.857637Z"
    }
   },
   "outputs": [],
   "source": [
    "# prueba6 = standardize_binary_values_pl(prueba5, parameters['parameters_processing'])"
   ]
  },
  {
   "cell_type": "code",
   "execution_count": 13,
   "metadata": {
    "ExecuteTime": {
     "end_time": "2024-05-11T20:45:10.024475Z",
     "start_time": "2024-05-11T20:45:10.022255Z"
    }
   },
   "outputs": [],
   "source": [
    "# prueba7 = impute_missing_values_pl(prueba6)"
   ]
  },
  {
   "cell_type": "markdown",
   "metadata": {},
   "source": [
    "FEATURING DATA"
   ]
  },
  {
   "cell_type": "code",
   "execution_count": 14,
   "metadata": {
    "ExecuteTime": {
     "end_time": "2024-05-11T20:45:11.719465Z",
     "start_time": "2024-05-11T20:45:10.366302Z"
    }
   },
   "outputs": [],
   "source": [
    "# Nodos\n",
    "from functions.featuring import (new_features_pl,\n",
    "                                 add_target_variable_pl,\n",
    "                                 one_hot_encoding_pl,\n",
    "                                 random_forest_selection_pl,\n",
    "                                 conditional_entropy_selection_pl,\n",
    "                                 intersect_top_features_pl)"
   ]
  },
  {
   "cell_type": "code",
   "execution_count": 15,
   "metadata": {
    "ExecuteTime": {
     "end_time": "2024-05-11T20:45:11.751225Z",
     "start_time": "2024-05-11T20:45:11.720814Z"
    }
   },
   "outputs": [],
   "source": [
    "processed_data_path = os.path.join(data_processed_directory, parameters['parameters_catalog']['processed_data_path'])\n",
    "\n",
    "data_processed = pl.read_csv(processed_data_path)"
   ]
  },
  {
   "cell_type": "code",
   "execution_count": 16,
   "metadata": {
    "ExecuteTime": {
     "end_time": "2024-05-11T20:45:11.770609Z",
     "start_time": "2024-05-11T20:45:11.751881Z"
    }
   },
   "outputs": [
    {
     "name": "stderr",
     "output_type": "stream",
     "text": [
      "INFO:functions.featuring:Iniciando la generación de nuevas características...\n",
      "INFO:functions.featuring:Nuevas características generadas!\n"
     ]
    }
   ],
   "source": [
    "prueba8 = new_features_pl(data_processed, parameters['parameters_featuring'])"
   ]
  },
  {
   "cell_type": "code",
   "execution_count": 17,
   "metadata": {
    "ExecuteTime": {
     "end_time": "2024-05-11T20:45:11.785993Z",
     "start_time": "2024-05-11T20:45:11.772400Z"
    }
   },
   "outputs": [
    {
     "name": "stderr",
     "output_type": "stream",
     "text": [
      "INFO:functions.featuring:Añadiendo la variable objetivo al DataFrame...\n",
      "INFO:functions.featuring:Variable objetivo añadida!\n"
     ]
    }
   ],
   "source": [
    "target_directory = os.path.join(project_root, 'data', 'processed')\n",
    "target_path = os.path.join(target_directory, parameters['parameters_catalog']['target_column_path'])\n",
    "target = pl.read_csv(target_path)\n",
    "prueba9 = add_target_variable_pl(prueba8, target, parameters['parameters_featuring'])"
   ]
  },
  {
   "cell_type": "code",
   "execution_count": 18,
   "metadata": {
    "ExecuteTime": {
     "end_time": "2024-05-11T20:45:11.895980Z",
     "start_time": "2024-05-11T20:45:11.786854Z"
    }
   },
   "outputs": [
    {
     "name": "stderr",
     "output_type": "stream",
     "text": [
      "INFO:functions.featuring:Iniciando One Hot Encoding...\n",
      "INFO:functions.featuring:Empieza el proceso de categorización acumulativa para el campo 'tipo_trabajo'...\n",
      "INFO:functions.featuring:Categorización acumulativa completada para el campo 'tipo_trabajo'!\n",
      "INFO:functions.featuring:Empieza el proceso de categorización acumulativa para el campo 'estado_civil'...\n",
      "INFO:functions.featuring:Categorización acumulativa completada para el campo 'estado_civil'!\n",
      "INFO:functions.featuring:Empieza el proceso de categorización acumulativa para el campo 'educacion'...\n",
      "INFO:functions.featuring:Categorización acumulativa completada para el campo 'educacion'!\n",
      "INFO:functions.featuring:Empieza el proceso de categorización acumulativa para el campo 'tipo_contacto'...\n",
      "INFO:functions.featuring:Categorización acumulativa completada para el campo 'tipo_contacto'!\n",
      "INFO:functions.featuring:Empieza el proceso de categorización acumulativa para el campo 'mes_contacto'...\n",
      "INFO:functions.featuring:Categorización acumulativa completada para el campo 'mes_contacto'!\n",
      "INFO:functions.featuring:Empieza el proceso de categorización acumulativa para el campo 'dia_contacto'...\n",
      "INFO:functions.featuring:Categorización acumulativa completada para el campo 'dia_contacto'!\n",
      "INFO:functions.featuring:Empieza el proceso de categorización acumulativa para el campo 'resultado_anterior'...\n",
      "INFO:functions.featuring:Categorización acumulativa completada para el campo 'resultado_anterior'!\n",
      "INFO:functions.featuring:Empieza el proceso de categorización acumulativa para el campo 'segmento'...\n",
      "INFO:functions.featuring:Categorización acumulativa completada para el campo 'segmento'!\n",
      "INFO:functions.featuring:One Hot Encoding completado!\n"
     ]
    }
   ],
   "source": [
    "prueba10 = one_hot_encoding_pl(prueba9, parameters['parameters_featuring'])"
   ]
  },
  {
   "cell_type": "code",
   "execution_count": 19,
   "metadata": {
    "ExecuteTime": {
     "end_time": "2024-05-11T20:45:12.023398Z",
     "start_time": "2024-05-11T20:45:11.896696Z"
    }
   },
   "outputs": [
    {
     "name": "stderr",
     "output_type": "stream",
     "text": [
      "INFO:functions.featuring:Iniciando la selección de características con Random Forest...\n",
      "INFO:functions.featuring:Selección de características con Random Forest completada!\n"
     ]
    }
   ],
   "source": [
    "prueba11 = random_forest_selection_pl(prueba10, parameters['parameters_featuring'])"
   ]
  },
  {
   "cell_type": "code",
   "execution_count": 20,
   "metadata": {
    "ExecuteTime": {
     "end_time": "2024-05-11T20:45:19.819349Z",
     "start_time": "2024-05-11T20:45:19.765193Z"
    }
   },
   "outputs": [
    {
     "name": "stderr",
     "output_type": "stream",
     "text": [
      "INFO:functions.featuring:Iniciando la selección de características con Entropía Condicional...\n",
      "INFO:functions.featuring:Selección de características con Entropía Condicional completada!\n"
     ]
    }
   ],
   "source": [
    "prueba12 = conditional_entropy_selection_pl(prueba10, parameters['parameters_featuring'])"
   ]
  },
  {
   "cell_type": "code",
   "execution_count": null,
   "metadata": {},
   "outputs": [],
   "source": []
  },
  {
   "cell_type": "code",
   "execution_count": 35,
   "metadata": {},
   "outputs": [],
   "source": [
    "target = parameters['parameters_featuring']['ce_selection']['target']\n",
    "id = parameters['parameters_featuring']['ce_selection']['id']"
   ]
  },
  {
   "cell_type": "code",
   "execution_count": 40,
   "metadata": {},
   "outputs": [
    {
     "data": {
      "text/plain": [
       "'target'"
      ]
     },
     "execution_count": 40,
     "metadata": {},
     "output_type": "execute_result"
    }
   ],
   "source": [
    "target"
   ]
  },
  {
   "cell_type": "code",
   "execution_count": 43,
   "metadata": {},
   "outputs": [],
   "source": [
    "df = prueba10\n",
    "df = df.drop(id)"
   ]
  },
  {
   "cell_type": "code",
   "execution_count": 53,
   "metadata": {},
   "outputs": [],
   "source": [
    "def add_random_variables_pd(df: pd.DataFrame) -> pd.DataFrame:\n",
    "    \"\"\"\n",
    "    Agrega dos variables aleatorias al DataFrame\n",
    "\n",
    "    Parameters\n",
    "    ----------\n",
    "    df : pandas.DataFrame\n",
    "        DataFrame al que se agregarán las variables aleatorias.\n",
    "\n",
    "    Returns\n",
    "    -------\n",
    "    pd.DataFrame\n",
    "        DataFrame con las variables aleatorias agregadas.\n",
    "    \"\"\"\n",
    "\n",
    "    df[\"var_aleatoria_uniforme\"] = np.random.rand(len(df))\n",
    "    df[\"var_aleatoria_entera\"] = np.random.randint(1, 5, size=len(df))\n",
    "\n",
    "    return df"
   ]
  },
  {
   "cell_type": "code",
   "execution_count": 46,
   "metadata": {},
   "outputs": [],
   "source": [
    "def entropy(p):\n",
    "    \"\"\"\n",
    "    Calcula la entropía de un conjunto de probabilidades.\n",
    "\n",
    "    Parameters\n",
    "    ----------\n",
    "    p : list\n",
    "        Lista de probabilidades.\n",
    "\n",
    "    Returns\n",
    "    -------\n",
    "    float: Valor de la entropía.\n",
    "    \"\"\"\n",
    "    return -np.sum([pi * np.log2(pi) if pi > 0 else 0 for pi in p])"
   ]
  },
  {
   "cell_type": "code",
   "execution_count": 50,
   "metadata": {},
   "outputs": [],
   "source": [
    "# Entropía variable objetivo\n",
    "des = df.group_by(target).agg(pl.len().alias('count'))\n",
    "pr = des['count'] / df.height  # Obtener el número total de filas con df.height()\n",
    "Ho = entropy(pr.to_numpy())"
   ]
  },
  {
   "cell_type": "code",
   "execution_count": 55,
   "metadata": {},
   "outputs": [],
   "source": [
    "# Convertir df a pandas para agregar las variables aleatorias\n",
    "df_pandas = df.to_pandas()\n",
    "df_pandas = add_random_variables_pd(df_pandas)\n",
    "# Convertir de nuevo a DataFrame de Polars\n",
    "df = pl.DataFrame(df_pandas)"
   ]
  },
  {
   "cell_type": "code",
   "execution_count": 58,
   "metadata": {},
   "outputs": [],
   "source": [
    "# Cálculo de entropía condicional\n",
    "feature_names, feature_importance = [], []\n",
    "\n",
    "for columna in df.columns:\n",
    "    if columna == target:\n",
    "        continue\n",
    "    H = 0\n",
    "    feature_names.append(columna)\n",
    "\n",
    "    # Cálculo de entropía condicional en el bucle for\n",
    "    grouped = df.group_by(columna).agg(pl.col(target).count().alias(\"count\"))\n",
    "    # Aseguramos que cada columna sea accesible por su nombre para evitar confusiones futuras\n",
    "    grouped = grouped.with_columns(pl.col(columna).alias('value'))\n",
    "    for row in grouped.rows():\n",
    "        # Usamos índices de acuerdo a cómo están ordenadas las columnas en el DataFrame agrupado\n",
    "        value, group_count = row[0], row[1]  # Asumiendo que 'columna' y 'count' son las primeras dos columnas\n",
    "        df_i = df.filter(pl.col(columna) == value)\n",
    "        des = df_i.group_by(target).agg(pl.len().alias('count'))\n",
    "        pr = des['count'] / group_count\n",
    "        Hcond = entropy(pr.to_numpy())\n",
    "        prob = group_count / df.height  # Usamos la propiedad height de Polars directamente\n",
    "        H += Hcond * prob\n",
    "\n",
    "    feature_importance.append(Ho - H)\n",
    "\n",
    "# Crear un DataFrame con la importancia de las características\n",
    "data_entropia = pl.DataFrame({'Feature': feature_names, 'Importance': feature_importance})\n",
    "\n",
    "# Ordenar el DataFrame por importancia de manera descendente\n",
    "df_entropia = data_entropia.sort(by='Importance', descending=True)"
   ]
  },
  {
   "cell_type": "code",
   "execution_count": 76,
   "metadata": {},
   "outputs": [
    {
     "data": {
      "text/html": [
       "<div><style>\n",
       ".dataframe > thead > tr,\n",
       ".dataframe > tbody > tr {\n",
       "  text-align: right;\n",
       "  white-space: pre-wrap;\n",
       "}\n",
       "</style>\n",
       "<small>shape: (1, 2)</small><table border=\"1\" class=\"dataframe\"><thead><tr><th>Feature</th><th>Importance</th></tr><tr><td>str</td><td>f64</td></tr></thead><tbody><tr><td>&quot;var_aleatoria_uniforme&quot;</td><td>0.506296</td></tr></tbody></table></div>"
      ],
      "text/plain": [
       "shape: (1, 2)\n",
       "┌────────────────────────┬────────────┐\n",
       "│ Feature                ┆ Importance │\n",
       "│ ---                    ┆ ---        │\n",
       "│ str                    ┆ f64        │\n",
       "╞════════════════════════╪════════════╡\n",
       "│ var_aleatoria_uniforme ┆ 0.506296   │\n",
       "└────────────────────────┴────────────┘"
      ]
     },
     "execution_count": 76,
     "metadata": {},
     "output_type": "execute_result"
    }
   ],
   "source": [
    "df_entropia.filter(pl.col(\"Feature\") == \"var_aleatoria_uniforme\")"
   ]
  },
  {
   "cell_type": "code",
   "execution_count": 77,
   "metadata": {},
   "outputs": [
    {
     "data": {
      "text/html": [
       "<div><style>\n",
       ".dataframe > thead > tr,\n",
       ".dataframe > tbody > tr {\n",
       "  text-align: right;\n",
       "  white-space: pre-wrap;\n",
       "}\n",
       "</style>\n",
       "<small>shape: (71, 2)</small><table border=\"1\" class=\"dataframe\"><thead><tr><th>Feature</th><th>Importance</th></tr><tr><td>str</td><td>f64</td></tr></thead><tbody><tr><td>&quot;buro_max_deuda&quot;</td><td>0.506296</td></tr><tr><td>&quot;ratio_ingresos_deuda&quot;</td><td>0.506296</td></tr><tr><td>&quot;ratio_deuda_creditos&quot;</td><td>0.506296</td></tr><tr><td>&quot;var_aleatoria_uniforme&quot;</td><td>0.506296</td></tr><tr><td>&quot;marg_cont&quot;</td><td>0.429893</td></tr><tr><td>&hellip;</td><td>&hellip;</td></tr><tr><td>&quot;cdt&quot;</td><td>0.000001</td></tr><tr><td>&quot;educacion_otro&quot;</td><td>8.4468e-7</td></tr><tr><td>&quot;segmento_preferente&quot;</td><td>7.8588e-8</td></tr><tr><td>&quot;segmento_otro&quot;</td><td>7.8588e-8</td></tr><tr><td>&quot;resultado_anterior_otro&quot;</td><td>0.0</td></tr></tbody></table></div>"
      ],
      "text/plain": [
       "shape: (71, 2)\n",
       "┌─────────────────────────┬────────────┐\n",
       "│ Feature                 ┆ Importance │\n",
       "│ ---                     ┆ ---        │\n",
       "│ str                     ┆ f64        │\n",
       "╞═════════════════════════╪════════════╡\n",
       "│ buro_max_deuda          ┆ 0.506296   │\n",
       "│ ratio_ingresos_deuda    ┆ 0.506296   │\n",
       "│ ratio_deuda_creditos    ┆ 0.506296   │\n",
       "│ var_aleatoria_uniforme  ┆ 0.506296   │\n",
       "│ marg_cont               ┆ 0.429893   │\n",
       "│ …                       ┆ …          │\n",
       "│ cdt                     ┆ 0.000001   │\n",
       "│ educacion_otro          ┆ 8.4468e-7  │\n",
       "│ segmento_preferente     ┆ 7.8588e-8  │\n",
       "│ segmento_otro           ┆ 7.8588e-8  │\n",
       "│ resultado_anterior_otro ┆ 0.0        │\n",
       "└─────────────────────────┴────────────┘"
      ]
     },
     "execution_count": 77,
     "metadata": {},
     "output_type": "execute_result"
    }
   ],
   "source": [
    "df_entropia"
   ]
  },
  {
   "cell_type": "code",
   "execution_count": 61,
   "metadata": {},
   "outputs": [],
   "source": [
    "# Obtener la importancia de las variables aleatorias\n",
    "random_var_imp_0_1 = \\\n",
    "df_entropia.filter(pl.col(\"Feature\") == \"var_aleatoria_uniforme\").select(\"Importance\").to_numpy()[0][0]\n",
    "random_var_imp_1_4 = \\\n",
    "df_entropia.filter(pl.col(\"Feature\") == \"var_aleatoria_entera\").select(\"Importance\").to_numpy()[0][0]"
   ]
  },
  {
   "cell_type": "code",
   "execution_count": 62,
   "metadata": {},
   "outputs": [
    {
     "data": {
      "text/plain": [
       "0.5062956958567797"
      ]
     },
     "execution_count": 62,
     "metadata": {},
     "output_type": "execute_result"
    }
   ],
   "source": [
    "random_var_imp_0_1"
   ]
  },
  {
   "cell_type": "code",
   "execution_count": 63,
   "metadata": {},
   "outputs": [
    {
     "data": {
      "text/plain": [
       "0.00014076528375817077"
      ]
     },
     "execution_count": 63,
     "metadata": {},
     "output_type": "execute_result"
    }
   ],
   "source": [
    "random_var_imp_1_4"
   ]
  },
  {
   "cell_type": "code",
   "execution_count": 60,
   "metadata": {
    "ExecuteTime": {
     "end_time": "2024-05-11T20:45:20.967666Z",
     "start_time": "2024-05-11T20:45:20.734865Z"
    }
   },
   "outputs": [],
   "source": [
    "#prueba13 = intersect_top_features_pl(prueba11, prueba12, parameters['parameters_featuring'])"
   ]
  },
  {
   "cell_type": "code",
   "execution_count": null,
   "metadata": {},
   "outputs": [],
   "source": []
  }
 ],
 "metadata": {
  "kernelspec": {
   "display_name": "py3.11 proyecto_tc",
   "language": "python",
   "name": "proyecto_tc"
  },
  "language_info": {
   "codemirror_mode": {
    "name": "ipython",
    "version": 3
   },
   "file_extension": ".py",
   "mimetype": "text/x-python",
   "name": "python",
   "nbconvert_exporter": "python",
   "pygments_lexer": "ipython3",
   "version": "3.11.0"
  }
 },
 "nbformat": 4,
 "nbformat_minor": 4
}
