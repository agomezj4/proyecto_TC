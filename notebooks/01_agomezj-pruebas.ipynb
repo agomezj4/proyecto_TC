{
 "cells": [
  {
   "cell_type": "code",
   "metadata": {
    "ExecuteTime": {
     "end_time": "2024-05-05T19:54:04.792629Z",
     "start_time": "2024-05-05T19:54:04.663182Z"
    }
   },
   "source": [
    "import polars as pl\n",
    "import sys\n",
    "import yaml\n",
    "import os"
   ],
   "outputs": [],
   "execution_count": 1
  },
  {
   "cell_type": "code",
   "metadata": {
    "ExecuteTime": {
     "end_time": "2024-05-05T19:54:05.110578Z",
     "start_time": "2024-05-05T19:54:05.108063Z"
    }
   },
   "source": [
    "sys.path.append('../src/')\n",
    "project_root = os.path.dirname(os.getcwd())"
   ],
   "outputs": [],
   "execution_count": 2
  },
  {
   "metadata": {
    "ExecuteTime": {
     "end_time": "2024-05-05T19:54:05.175663Z",
     "start_time": "2024-05-05T19:54:05.173431Z"
    }
   },
   "cell_type": "code",
   "source": [
    "# Directorios para los archivos de parámetros y los datos\n",
    "parameters_directory = os.path.join(project_root, 'src', 'parameters')\n",
    "data_raw_directory = os.path.join(project_root, 'data', 'raw')\n",
    "data_processed_directory = os.path.join(project_root, 'data', 'processed')\n",
    "data_features_directory = os.path.join(project_root, 'data', 'features')"
   ],
   "outputs": [],
   "execution_count": 3
  },
  {
   "metadata": {
    "ExecuteTime": {
     "end_time": "2024-05-05T19:54:05.268208Z",
     "start_time": "2024-05-05T19:54:05.262175Z"
    }
   },
   "cell_type": "code",
   "source": [
    "# Lista todos los archivos YAML en el directorio especificado\n",
    "yaml_files = [f for f in os.listdir(parameters_directory) if f.endswith('.yml')]\n",
    "\n",
    "# Diccionario para guardar los parámetros cargados\n",
    "parameters = {}\n",
    "\n",
    "# Carga cada archivo YAML\n",
    "for yaml_file in yaml_files:\n",
    "    with open(os.path.join(parameters_directory, yaml_file), 'r') as file:\n",
    "        data = yaml.safe_load(file)\n",
    "        key_name = f'parameters_{yaml_file.replace(\".yml\", \"\")}'\n",
    "        parameters[key_name] = data"
   ],
   "outputs": [],
   "execution_count": 4
  },
  {
   "metadata": {},
   "cell_type": "markdown",
   "source": "PROCESSING DATA"
  },
  {
   "metadata": {
    "ExecuteTime": {
     "end_time": "2024-05-05T19:54:05.423036Z",
     "start_time": "2024-05-05T19:54:05.419936Z"
    }
   },
   "cell_type": "code",
   "source": [
    "# # Nodos\n",
    "# from functions.processing import (validate_tags_pl, \n",
    "#                              validate_dtypes_pl, \n",
    "#                              change_names_pl, \n",
    "#                              change_dtype_pl,\n",
    "#                              delete_accents_pl,\n",
    "#                              standardize_binary_values_pl,\n",
    "#                              impute_missing_values_pl)"
   ],
   "outputs": [],
   "execution_count": 5
  },
  {
   "cell_type": "code",
   "metadata": {
    "ExecuteTime": {
     "end_time": "2024-05-05T19:54:05.507491Z",
     "start_time": "2024-05-05T19:54:05.505452Z"
    }
   },
   "source": [
    "# tag_dict_path = os.path.join(data_raw_directory, parameters['parameters_catalog']['tag_dict_path'])\n",
    "# raw_data_path = os.path.join(data_raw_directory, parameters['parameters_catalog']['raw_data_path'])\n",
    "# \n",
    "# tag_dict = pl.read_excel(tag_dict_path)\n",
    "# data_raw = pl.read_csv(raw_data_path)"
   ],
   "outputs": [],
   "execution_count": 6
  },
  {
   "cell_type": "code",
   "metadata": {
    "ExecuteTime": {
     "end_time": "2024-05-05T19:54:05.591597Z",
     "start_time": "2024-05-05T19:54:05.589632Z"
    }
   },
   "source": "# prueba1 = validate_tags_pl(data_raw, tag_dict)",
   "outputs": [],
   "execution_count": 7
  },
  {
   "cell_type": "code",
   "metadata": {
    "ExecuteTime": {
     "end_time": "2024-05-05T19:54:05.785937Z",
     "start_time": "2024-05-05T19:54:05.776540Z"
    }
   },
   "source": "# prueba2 = validate_dtypes_pl(prueba1, tag_dict)",
   "outputs": [],
   "execution_count": 8
  },
  {
   "metadata": {
    "ExecuteTime": {
     "end_time": "2024-05-05T19:54:05.875246Z",
     "start_time": "2024-05-05T19:54:05.872976Z"
    }
   },
   "cell_type": "code",
   "source": "# prueba3 = change_names_pl(prueba2, tag_dict)",
   "outputs": [],
   "execution_count": 9
  },
  {
   "metadata": {
    "ExecuteTime": {
     "end_time": "2024-05-05T19:54:05.939604Z",
     "start_time": "2024-05-05T19:54:05.937458Z"
    }
   },
   "cell_type": "code",
   "source": "# prueba4 = change_dtype_pl(prueba3, tag_dict)",
   "outputs": [],
   "execution_count": 10
  },
  {
   "metadata": {
    "ExecuteTime": {
     "end_time": "2024-05-05T19:54:06.080271Z",
     "start_time": "2024-05-05T19:54:06.078050Z"
    }
   },
   "cell_type": "code",
   "source": "# prueba5 = delete_accents_pl(prueba4)",
   "outputs": [],
   "execution_count": 11
  },
  {
   "metadata": {
    "ExecuteTime": {
     "end_time": "2024-05-05T19:54:06.238666Z",
     "start_time": "2024-05-05T19:54:06.237115Z"
    }
   },
   "cell_type": "code",
   "source": "# prueba6 = standardize_binary_values_pl(prueba5, parameters['parameters_processing'])",
   "outputs": [],
   "execution_count": 12
  },
  {
   "metadata": {
    "ExecuteTime": {
     "end_time": "2024-05-05T19:54:06.402343Z",
     "start_time": "2024-05-05T19:54:06.400563Z"
    }
   },
   "cell_type": "code",
   "source": "# prueba7 = impute_missing_values_pl(prueba6)",
   "outputs": [],
   "execution_count": 13
  },
  {
   "metadata": {},
   "cell_type": "markdown",
   "source": "FEATURING DATA"
  },
  {
   "metadata": {
    "ExecuteTime": {
     "end_time": "2024-05-05T19:54:08.348812Z",
     "start_time": "2024-05-05T19:54:06.729025Z"
    }
   },
   "cell_type": "code",
   "source": [
    "# Nodos\n",
    "from functions.featuring import (new_features_pl,\n",
    "                                 add_target_variable_pl,\n",
    "                                 one_hot_encoding_pl,\n",
    "                                 random_forest_selection_pl,\n",
    "                                 conditional_entropy_selection_pl,\n",
    "                                 intersect_top_features_pl)"
   ],
   "outputs": [],
   "execution_count": 14
  },
  {
   "metadata": {
    "ExecuteTime": {
     "end_time": "2024-05-05T19:54:08.380214Z",
     "start_time": "2024-05-05T19:54:08.349884Z"
    }
   },
   "cell_type": "code",
   "source": [
    "processed_data_path = os.path.join(data_processed_directory, parameters['parameters_catalog']['processed_data_path'])\n",
    "\n",
    "data_processed = pl.read_csv(processed_data_path)"
   ],
   "outputs": [],
   "execution_count": 15
  },
  {
   "metadata": {
    "ExecuteTime": {
     "end_time": "2024-05-05T19:54:08.388494Z",
     "start_time": "2024-05-05T19:54:08.380986Z"
    }
   },
   "cell_type": "code",
   "source": "prueba8 = new_features_pl(data_processed, parameters['parameters_featuring'])",
   "outputs": [
    {
     "name": "stderr",
     "output_type": "stream",
     "text": [
      "INFO:functions.featuring:Iniciando la generación de nuevas características...\n",
      "INFO:functions.featuring:Nuevas características generadas!\n"
     ]
    }
   ],
   "execution_count": 16
  },
  {
   "metadata": {
    "ExecuteTime": {
     "end_time": "2024-05-05T19:54:08.403481Z",
     "start_time": "2024-05-05T19:54:08.389743Z"
    }
   },
   "cell_type": "code",
   "source": [
    "target_directory = os.path.join(project_root, 'data', 'processed')\n",
    "target_path = os.path.join(target_directory, parameters['parameters_catalog']['target_column_path'])\n",
    "target = pl.read_csv(target_path)\n",
    "prueba9 = add_target_variable_pl(prueba8, target, parameters['parameters_featuring'])"
   ],
   "outputs": [
    {
     "name": "stderr",
     "output_type": "stream",
     "text": [
      "INFO:functions.featuring:Añadiendo la variable objetivo al DataFrame...\n",
      "INFO:functions.featuring:Variable objetivo añadida!\n"
     ]
    }
   ],
   "execution_count": 17
  },
  {
   "metadata": {
    "ExecuteTime": {
     "end_time": "2024-05-05T19:54:08.507239Z",
     "start_time": "2024-05-05T19:54:08.404622Z"
    }
   },
   "cell_type": "code",
   "source": "prueba10 = one_hot_encoding_pl(prueba9, parameters['parameters_featuring'])",
   "outputs": [
    {
     "name": "stderr",
     "output_type": "stream",
     "text": [
      "INFO:functions.featuring:Iniciando One Hot Encoding...\n",
      "INFO:functions.featuring:Empieza el proceso de categorización acumulativa para el campo 'tipo_trabajo'...\n",
      "INFO:functions.featuring:Categorización acumulativa completada para el campo 'tipo_trabajo'!\n",
      "INFO:functions.featuring:Empieza el proceso de categorización acumulativa para el campo 'estado_civil'...\n",
      "INFO:functions.featuring:Categorización acumulativa completada para el campo 'estado_civil'!\n",
      "INFO:functions.featuring:Empieza el proceso de categorización acumulativa para el campo 'educacion'...\n",
      "INFO:functions.featuring:Categorización acumulativa completada para el campo 'educacion'!\n",
      "INFO:functions.featuring:Empieza el proceso de categorización acumulativa para el campo 'tipo_contacto'...\n",
      "INFO:functions.featuring:Categorización acumulativa completada para el campo 'tipo_contacto'!\n",
      "INFO:functions.featuring:Empieza el proceso de categorización acumulativa para el campo 'mes_contacto'...\n",
      "INFO:functions.featuring:Categorización acumulativa completada para el campo 'mes_contacto'!\n",
      "INFO:functions.featuring:Empieza el proceso de categorización acumulativa para el campo 'dia_contacto'...\n",
      "INFO:functions.featuring:Categorización acumulativa completada para el campo 'dia_contacto'!\n",
      "INFO:functions.featuring:Empieza el proceso de categorización acumulativa para el campo 'resultado_anterior'...\n",
      "INFO:functions.featuring:Categorización acumulativa completada para el campo 'resultado_anterior'!\n",
      "INFO:functions.featuring:Empieza el proceso de categorización acumulativa para el campo 'segmento'...\n",
      "INFO:functions.featuring:Categorización acumulativa completada para el campo 'segmento'!\n",
      "INFO:functions.featuring:Empieza el proceso de categorización acumulativa para el campo 'categoria_ultima_camp'...\n",
      "INFO:functions.featuring:Categorización acumulativa completada para el campo 'categoria_ultima_camp'!\n",
      "INFO:functions.featuring:Empieza el proceso de categorización acumulativa para el campo 'riesgo_estado_civil'...\n",
      "INFO:functions.featuring:Categorización acumulativa completada para el campo 'riesgo_estado_civil'!\n",
      "INFO:functions.featuring:One Hot Encoding completado!\n"
     ]
    }
   ],
   "execution_count": 18
  },
  {
   "metadata": {
    "ExecuteTime": {
     "end_time": "2024-05-05T19:54:14.398124Z",
     "start_time": "2024-05-05T19:54:08.508008Z"
    }
   },
   "cell_type": "code",
   "source": "prueba11 = random_forest_selection_pl(prueba10, parameters['parameters_featuring'])",
   "outputs": [
    {
     "name": "stderr",
     "output_type": "stream",
     "text": [
      "INFO:functions.featuring:Iniciando la selección de características con Random Forest...\n",
      "INFO:functions.featuring:Selección de características con Random Forest completada!\n"
     ]
    }
   ],
   "execution_count": 19
  },
  {
   "metadata": {
    "ExecuteTime": {
     "end_time": "2024-05-05T19:55:28.737827Z",
     "start_time": "2024-05-05T19:54:14.399151Z"
    }
   },
   "cell_type": "code",
   "source": "prueba12 = conditional_entropy_selection_pl(prueba10, parameters['parameters_featuring'])",
   "outputs": [
    {
     "name": "stderr",
     "output_type": "stream",
     "text": [
      "INFO:functions.featuring:Iniciando la selección de características con Entropía Condicional...\n",
      "INFO:functions.featuring:Selección de características con Entropía Condicional completada!\n"
     ]
    }
   ],
   "execution_count": 20
  },
  {
   "metadata": {
    "ExecuteTime": {
     "end_time": "2024-05-05T19:55:28.761930Z",
     "start_time": "2024-05-05T19:55:28.739842Z"
    }
   },
   "cell_type": "code",
   "source": "prueba13 = intersect_top_features_pl(prueba11, prueba12, parameters['parameters_featuring'])",
   "outputs": [
    {
     "name": "stderr",
     "output_type": "stream",
     "text": [
      "INFO:functions.featuring:Intersección de las feature importence por los métodos aplicados...\n",
      "INFO:functions.featuring:Intersección de las feature importence completada!\n"
     ]
    }
   ],
   "execution_count": 21
  },
  {
   "metadata": {},
   "cell_type": "code",
   "outputs": [],
   "execution_count": null,
   "source": ""
  }
 ],
 "metadata": {
  "kernelspec": {
   "display_name": "proyectoTC",
   "language": "python",
   "name": "python3"
  },
  "language_info": {
   "codemirror_mode": {
    "name": "ipython",
    "version": 3
   },
   "file_extension": ".py",
   "mimetype": "text/x-python",
   "name": "python",
   "nbconvert_exporter": "python",
   "pygments_lexer": "ipython3",
   "version": "3.12.0"
  }
 },
 "nbformat": 4,
 "nbformat_minor": 2
}
