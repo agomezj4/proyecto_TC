{
 "cells": [
  {
   "cell_type": "code",
   "execution_count": 1,
   "metadata": {
    "ExecuteTime": {
     "end_time": "2024-05-11T20:44:53.982727Z",
     "start_time": "2024-05-11T20:44:53.826928Z"
    }
   },
   "outputs": [],
   "source": [
    "import polars as pl\n",
    "import sys\n",
    "import yaml\n",
    "import os\n",
    "import numpy as np\n",
    "import pandas as pd"
   ]
  },
  {
   "cell_type": "code",
   "execution_count": 2,
   "metadata": {
    "ExecuteTime": {
     "end_time": "2024-05-11T20:44:56.176010Z",
     "start_time": "2024-05-11T20:44:56.171458Z"
    }
   },
   "outputs": [],
   "source": [
    "sys.path.append('../src/')\n",
    "project_root = os.path.dirname(os.getcwd())"
   ]
  },
  {
   "cell_type": "code",
   "execution_count": 3,
   "metadata": {
    "ExecuteTime": {
     "end_time": "2024-05-11T20:44:56.676726Z",
     "start_time": "2024-05-11T20:44:56.674013Z"
    }
   },
   "outputs": [],
   "source": [
    "# Directorios para los archivos de parámetros y los datos\n",
    "parameters_directory = os.path.join(project_root, 'src', 'parameters')\n",
    "data_raw_directory = os.path.join(project_root, 'data', 'raw')\n",
    "data_processed_directory = os.path.join(project_root, 'data', 'processed')\n",
    "data_features_directory = os.path.join(project_root, 'data', 'features')"
   ]
  },
  {
   "cell_type": "code",
   "execution_count": 4,
   "metadata": {
    "ExecuteTime": {
     "end_time": "2024-05-11T20:44:57.302163Z",
     "start_time": "2024-05-11T20:44:57.294120Z"
    }
   },
   "outputs": [],
   "source": [
    "# Lista todos los archivos YAML en el directorio especificado\n",
    "yaml_files = [f for f in os.listdir(parameters_directory) if f.endswith('.yml')]\n",
    "\n",
    "# Diccionario para guardar los parámetros cargados\n",
    "parameters = {}\n",
    "\n",
    "# Carga cada archivo YAML\n",
    "for yaml_file in yaml_files:\n",
    "    with open(os.path.join(parameters_directory, yaml_file), 'r') as file:\n",
    "        data = yaml.safe_load(file)\n",
    "        key_name = f'parameters_{yaml_file.replace(\".yml\", \"\")}'\n",
    "        parameters[key_name] = data"
   ]
  },
  {
   "cell_type": "markdown",
   "metadata": {},
   "source": [
    "PROCESSING DATA"
   ]
  },
  {
   "cell_type": "code",
   "execution_count": 5,
   "metadata": {
    "ExecuteTime": {
     "end_time": "2024-05-11T20:45:08.062186Z",
     "start_time": "2024-05-11T20:45:08.055786Z"
    }
   },
   "outputs": [],
   "source": [
    "# # Nodos\n",
    "# from functions.processing import (validate_tags_pl, \n",
    "#                              validate_dtypes_pl, \n",
    "#                              change_names_pl, \n",
    "#                              change_dtype_pl,\n",
    "#                              delete_accents_pl,\n",
    "#                              standardize_binary_values_pl,\n",
    "#                              impute_missing_values_pl)"
   ]
  },
  {
   "cell_type": "code",
   "execution_count": 6,
   "metadata": {
    "ExecuteTime": {
     "end_time": "2024-05-11T20:45:08.464638Z",
     "start_time": "2024-05-11T20:45:08.461695Z"
    }
   },
   "outputs": [],
   "source": [
    "# tag_dict_path = os.path.join(data_raw_directory, parameters['parameters_catalog']['tag_dict_path'])\n",
    "# raw_data_path = os.path.join(data_raw_directory, parameters['parameters_catalog']['raw_data_path'])\n",
    "# \n",
    "# tag_dict = pl.read_excel(tag_dict_path)\n",
    "# data_raw = pl.read_csv(raw_data_path)"
   ]
  },
  {
   "cell_type": "code",
   "execution_count": 7,
   "metadata": {
    "ExecuteTime": {
     "end_time": "2024-05-11T20:45:08.869014Z",
     "start_time": "2024-05-11T20:45:08.866632Z"
    }
   },
   "outputs": [],
   "source": [
    "# prueba1 = validate_tags_pl(data_raw, tag_dict)"
   ]
  },
  {
   "cell_type": "code",
   "execution_count": 8,
   "metadata": {
    "ExecuteTime": {
     "end_time": "2024-05-11T20:45:09.131490Z",
     "start_time": "2024-05-11T20:45:09.128202Z"
    }
   },
   "outputs": [],
   "source": [
    "# prueba2 = validate_dtypes_pl(prueba1, tag_dict)"
   ]
  },
  {
   "cell_type": "code",
   "execution_count": 9,
   "metadata": {
    "ExecuteTime": {
     "end_time": "2024-05-11T20:45:09.330863Z",
     "start_time": "2024-05-11T20:45:09.328010Z"
    }
   },
   "outputs": [],
   "source": [
    "# prueba3 = change_names_pl(prueba2, tag_dict)"
   ]
  },
  {
   "cell_type": "code",
   "execution_count": 10,
   "metadata": {
    "ExecuteTime": {
     "end_time": "2024-05-11T20:45:09.528335Z",
     "start_time": "2024-05-11T20:45:09.525684Z"
    }
   },
   "outputs": [],
   "source": [
    "# prueba4 = change_dtype_pl(prueba3, tag_dict)"
   ]
  },
  {
   "cell_type": "code",
   "execution_count": 11,
   "metadata": {
    "ExecuteTime": {
     "end_time": "2024-05-11T20:45:09.684685Z",
     "start_time": "2024-05-11T20:45:09.681785Z"
    }
   },
   "outputs": [],
   "source": [
    "# prueba5 = delete_accents_pl(prueba4)"
   ]
  },
  {
   "cell_type": "code",
   "execution_count": 12,
   "metadata": {
    "ExecuteTime": {
     "end_time": "2024-05-11T20:45:09.859738Z",
     "start_time": "2024-05-11T20:45:09.857637Z"
    }
   },
   "outputs": [],
   "source": [
    "# prueba6 = standardize_binary_values_pl(prueba5, parameters['parameters_processing'])"
   ]
  },
  {
   "cell_type": "code",
   "execution_count": 13,
   "metadata": {
    "ExecuteTime": {
     "end_time": "2024-05-11T20:45:10.024475Z",
     "start_time": "2024-05-11T20:45:10.022255Z"
    }
   },
   "outputs": [],
   "source": [
    "# prueba7 = impute_missing_values_pl(prueba6)"
   ]
  },
  {
   "cell_type": "markdown",
   "metadata": {},
   "source": [
    "FEATURING DATA"
   ]
  },
  {
   "cell_type": "code",
   "execution_count": 14,
   "metadata": {
    "ExecuteTime": {
     "end_time": "2024-05-11T20:45:11.719465Z",
     "start_time": "2024-05-11T20:45:10.366302Z"
    }
   },
   "outputs": [],
   "source": [
    "# Nodos\n",
    "from functions.featuring import (new_features_pl,\n",
    "                                 add_target_variable_pl,\n",
    "                                 one_hot_encoding_pl,\n",
    "                                 random_forest_selection_pl,\n",
    "                                 conditional_entropy_selection_pl,\n",
    "                                 intersect_top_features_pl)"
   ]
  },
  {
   "cell_type": "code",
   "execution_count": 15,
   "metadata": {
    "ExecuteTime": {
     "end_time": "2024-05-11T20:45:11.751225Z",
     "start_time": "2024-05-11T20:45:11.720814Z"
    }
   },
   "outputs": [],
   "source": [
    "processed_data_path = os.path.join(data_processed_directory, parameters['parameters_catalog']['processed_data_path'])\n",
    "\n",
    "data_processed = pl.read_csv(processed_data_path)"
   ]
  },
  {
   "cell_type": "code",
   "execution_count": 16,
   "metadata": {
    "ExecuteTime": {
     "end_time": "2024-05-11T20:45:11.770609Z",
     "start_time": "2024-05-11T20:45:11.751881Z"
    }
   },
   "outputs": [
    {
     "name": "stderr",
     "output_type": "stream",
     "text": [
      "INFO:functions.featuring:Iniciando la generación de nuevas características...\n",
      "INFO:functions.featuring:Nuevas características generadas!\n"
     ]
    }
   ],
   "source": [
    "prueba8 = new_features_pl(data_processed, parameters['parameters_featuring'])"
   ]
  },
  {
   "cell_type": "code",
   "execution_count": 17,
   "metadata": {
    "ExecuteTime": {
     "end_time": "2024-05-11T20:45:11.785993Z",
     "start_time": "2024-05-11T20:45:11.772400Z"
    }
   },
   "outputs": [
    {
     "name": "stderr",
     "output_type": "stream",
     "text": [
      "INFO:functions.featuring:Añadiendo la variable objetivo al DataFrame...\n",
      "INFO:functions.featuring:Variable objetivo añadida!\n"
     ]
    }
   ],
   "source": [
    "target_directory = os.path.join(project_root, 'data', 'processed')\n",
    "target_path = os.path.join(target_directory, parameters['parameters_catalog']['target_column_path'])\n",
    "target = pl.read_csv(target_path)\n",
    "prueba9 = add_target_variable_pl(prueba8, target, parameters['parameters_featuring'])"
   ]
  },
  {
   "cell_type": "code",
   "execution_count": 18,
   "metadata": {
    "ExecuteTime": {
     "end_time": "2024-05-11T20:45:11.895980Z",
     "start_time": "2024-05-11T20:45:11.786854Z"
    }
   },
   "outputs": [
    {
     "name": "stderr",
     "output_type": "stream",
     "text": [
      "INFO:functions.featuring:Iniciando One Hot Encoding...\n",
      "INFO:functions.featuring:Empieza el proceso de categorización acumulativa para el campo 'tipo_trabajo'...\n",
      "INFO:functions.featuring:Categorización acumulativa completada para el campo 'tipo_trabajo'!\n",
      "INFO:functions.featuring:Empieza el proceso de categorización acumulativa para el campo 'estado_civil'...\n",
      "INFO:functions.featuring:Categorización acumulativa completada para el campo 'estado_civil'!\n",
      "INFO:functions.featuring:Empieza el proceso de categorización acumulativa para el campo 'educacion'...\n",
      "INFO:functions.featuring:Categorización acumulativa completada para el campo 'educacion'!\n",
      "INFO:functions.featuring:Empieza el proceso de categorización acumulativa para el campo 'tipo_contacto'...\n",
      "INFO:functions.featuring:Categorización acumulativa completada para el campo 'tipo_contacto'!\n",
      "INFO:functions.featuring:Empieza el proceso de categorización acumulativa para el campo 'mes_contacto'...\n",
      "INFO:functions.featuring:Categorización acumulativa completada para el campo 'mes_contacto'!\n",
      "INFO:functions.featuring:Empieza el proceso de categorización acumulativa para el campo 'dia_contacto'...\n",
      "INFO:functions.featuring:Categorización acumulativa completada para el campo 'dia_contacto'!\n",
      "INFO:functions.featuring:Empieza el proceso de categorización acumulativa para el campo 'resultado_anterior'...\n",
      "INFO:functions.featuring:Categorización acumulativa completada para el campo 'resultado_anterior'!\n",
      "INFO:functions.featuring:Empieza el proceso de categorización acumulativa para el campo 'segmento'...\n",
      "INFO:functions.featuring:Categorización acumulativa completada para el campo 'segmento'!\n",
      "INFO:functions.featuring:One Hot Encoding completado!\n"
     ]
    }
   ],
   "source": [
    "prueba10 = one_hot_encoding_pl(prueba9, parameters['parameters_featuring'])"
   ]
  },
  {
   "cell_type": "code",
   "execution_count": 19,
   "metadata": {
    "ExecuteTime": {
     "end_time": "2024-05-11T20:45:12.023398Z",
     "start_time": "2024-05-11T20:45:11.896696Z"
    }
   },
   "outputs": [
    {
     "name": "stderr",
     "output_type": "stream",
     "text": [
      "INFO:functions.featuring:Iniciando la selección de características con Random Forest...\n",
      "INFO:functions.featuring:Selección de características con Random Forest completada!\n"
     ]
    }
   ],
   "source": [
    "prueba11 = random_forest_selection_pl(prueba10, parameters['parameters_featuring'])"
   ]
  },
  {
   "cell_type": "code",
   "execution_count": 20,
   "metadata": {
    "ExecuteTime": {
     "end_time": "2024-05-11T20:45:19.819349Z",
     "start_time": "2024-05-11T20:45:19.765193Z"
    }
   },
   "outputs": [
    {
     "name": "stderr",
     "output_type": "stream",
     "text": [
      "INFO:functions.featuring:Iniciando la selección de características con Entropía Condicional...\n",
      "INFO:functions.featuring:Selección de características con Entropía Condicional completada!\n"
     ]
    }
   ],
   "source": [
    "prueba12 = conditional_entropy_selection_pl(prueba10, parameters['parameters_featuring'])"
   ]
  },
  {
   "cell_type": "code",
   "execution_count": 21,
   "metadata": {
    "ExecuteTime": {
     "end_time": "2024-05-11T20:45:20.967666Z",
     "start_time": "2024-05-11T20:45:20.734865Z"
    }
   },
   "outputs": [
    {
     "name": "stderr",
     "output_type": "stream",
     "text": [
      "INFO:functions.featuring:Intersección de las feature importence por los métodos aplicados...\n",
      "INFO:functions.featuring:Intersección de las feature importence completada!\n",
      "INFO:functions.featuring:DataFrame con las características más importantes y la variable objetivo generado!\n"
     ]
    }
   ],
   "source": [
    "prueba13 = intersect_top_features_pl(prueba11, prueba12, prueba10, parameters['parameters_featuring'])"
   ]
  },
  {
   "cell_type": "code",
   "execution_count": null,
   "metadata": {},
   "outputs": [],
   "source": []
  }
 ],
 "metadata": {
  "kernelspec": {
   "display_name": "py3.11 proyecto_tc",
   "language": "python",
   "name": "proyecto_tc"
  },
  "language_info": {
   "codemirror_mode": {
    "name": "ipython",
    "version": 3
   },
   "file_extension": ".py",
   "mimetype": "text/x-python",
   "name": "python",
   "nbconvert_exporter": "python",
   "pygments_lexer": "ipython3",
   "version": "3.11.0"
  }
 },
 "nbformat": 4,
 "nbformat_minor": 4
}
