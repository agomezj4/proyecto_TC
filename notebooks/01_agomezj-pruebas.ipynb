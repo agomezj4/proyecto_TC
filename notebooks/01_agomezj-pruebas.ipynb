{
 "cells": [
  {
   "cell_type": "code",
   "metadata": {
    "ExecuteTime": {
     "end_time": "2024-05-05T16:49:45.437887Z",
     "start_time": "2024-05-05T16:49:45.300879Z"
    }
   },
   "source": [
    "import polars as pl\n",
    "import sys\n",
    "import yaml\n",
    "import os"
   ],
   "outputs": [],
   "execution_count": 1
  },
  {
   "cell_type": "code",
   "metadata": {
    "ExecuteTime": {
     "end_time": "2024-05-05T16:49:45.573265Z",
     "start_time": "2024-05-05T16:49:45.571041Z"
    }
   },
   "source": [
    "sys.path.append('../src/')\n",
    "project_root = os.path.dirname(os.getcwd())"
   ],
   "outputs": [],
   "execution_count": 2
  },
  {
   "metadata": {
    "ExecuteTime": {
     "end_time": "2024-05-05T16:49:45.761387Z",
     "start_time": "2024-05-05T16:49:45.758756Z"
    }
   },
   "cell_type": "code",
   "source": [
    "# Directorios para los archivos de parámetros y los datos\n",
    "parameters_directory = os.path.join(project_root, 'src', 'parameters')\n",
    "data_raw_directory = os.path.join(project_root, 'data', 'raw')\n",
    "data_processed_directory = os.path.join(project_root, 'data', 'processed')\n",
    "data_features_directory = os.path.join(project_root, 'data', 'features')"
   ],
   "outputs": [],
   "execution_count": 3
  },
  {
   "metadata": {
    "ExecuteTime": {
     "end_time": "2024-05-05T16:57:52.860098Z",
     "start_time": "2024-05-05T16:57:52.758787Z"
    }
   },
   "cell_type": "code",
   "source": [
    "# Lista todos los archivos YAML en el directorio especificado\n",
    "yaml_files = [f for f in os.listdir(parameters_directory) if f.endswith('.yml')]\n",
    "\n",
    "# Diccionario para guardar los parámetros cargados\n",
    "parameters = {}\n",
    "\n",
    "# Carga cada archivo YAML\n",
    "for yaml_file in yaml_files:\n",
    "    with open(os.path.join(parameters_directory, yaml_file), 'r') as file:\n",
    "        data = yaml.safe_load(file)\n",
    "        key_name = f'parameters_{yaml_file.replace(\".yml\", \"\")}'\n",
    "        parameters[key_name] = data"
   ],
   "outputs": [],
   "execution_count": 19
  },
  {
   "metadata": {},
   "cell_type": "markdown",
   "source": "PROCESSING DATA"
  },
  {
   "metadata": {
    "ExecuteTime": {
     "end_time": "2024-05-05T16:49:46.897243Z",
     "start_time": "2024-05-05T16:49:46.890374Z"
    }
   },
   "cell_type": "code",
   "source": [
    "# Nodos\n",
    "from functions.processing import (validate_tags_pl, \n",
    "                             validate_dtypes_pl, \n",
    "                             change_names_pl, \n",
    "                             change_dtype_pl,\n",
    "                             delete_accents_pl,\n",
    "                             standardize_binary_values_pl,\n",
    "                             impute_missing_values_pl)"
   ],
   "outputs": [],
   "execution_count": 5
  },
  {
   "cell_type": "code",
   "metadata": {
    "ExecuteTime": {
     "end_time": "2024-05-05T16:49:47.501112Z",
     "start_time": "2024-05-05T16:49:47.422957Z"
    }
   },
   "source": [
    "tag_dict_path = os.path.join(data_raw_directory, parameters['parameters_catalog']['tag_dict_path'])\n",
    "raw_data_path = os.path.join(data_raw_directory, parameters['parameters_catalog']['raw_data_path'])\n",
    "\n",
    "tag_dict = pl.read_excel(tag_dict_path)\n",
    "data_raw = pl.read_csv(raw_data_path)"
   ],
   "outputs": [],
   "execution_count": 6
  },
  {
   "cell_type": "code",
   "metadata": {
    "ExecuteTime": {
     "end_time": "2024-05-05T16:49:48.107423Z",
     "start_time": "2024-05-05T16:49:48.099925Z"
    }
   },
   "source": "prueba1 = validate_tags_pl(data_raw, tag_dict)",
   "outputs": [
    {
     "name": "stderr",
     "output_type": "stream",
     "text": [
      "INFO:functions.processing:Iniciando la validación de tags...\n",
      "INFO:functions.processing:Tags validados!\n"
     ]
    }
   ],
   "execution_count": 7
  },
  {
   "cell_type": "code",
   "metadata": {
    "ExecuteTime": {
     "end_time": "2024-05-05T16:49:48.346347Z",
     "start_time": "2024-05-05T16:49:48.338662Z"
    }
   },
   "source": "prueba2 = validate_dtypes_pl(prueba1, tag_dict)",
   "outputs": [
    {
     "name": "stderr",
     "output_type": "stream",
     "text": [
      "INFO:functions.processing:Iniciando la validación de tipos de datos...\n",
      "INFO:functions.processing:Tipos de datos validados correctamente!\n"
     ]
    }
   ],
   "execution_count": 8
  },
  {
   "metadata": {
    "ExecuteTime": {
     "end_time": "2024-05-05T16:49:48.591183Z",
     "start_time": "2024-05-05T16:49:48.586690Z"
    }
   },
   "cell_type": "code",
   "source": "prueba3 = change_names_pl(prueba2, tag_dict)",
   "outputs": [
    {
     "name": "stderr",
     "output_type": "stream",
     "text": [
      "INFO:functions.processing:Iniciando el cambio de nombres...\n",
      "INFO:functions.processing:Nombres de columnas cambiados!\n"
     ]
    }
   ],
   "execution_count": 9
  },
  {
   "metadata": {
    "ExecuteTime": {
     "end_time": "2024-05-05T16:49:49.097845Z",
     "start_time": "2024-05-05T16:49:49.079270Z"
    }
   },
   "cell_type": "code",
   "source": "prueba4 = change_dtype_pl(prueba3, tag_dict)",
   "outputs": [
    {
     "name": "stderr",
     "output_type": "stream",
     "text": [
      "INFO:functions.processing:Iniciando el cambio de tipos de datos...\n",
      "INFO:functions.processing:Dtypes cambiados!\n"
     ]
    }
   ],
   "execution_count": 10
  },
  {
   "metadata": {
    "ExecuteTime": {
     "end_time": "2024-05-05T16:49:49.377403Z",
     "start_time": "2024-05-05T16:49:49.342917Z"
    }
   },
   "cell_type": "code",
   "source": "prueba5 = delete_accents_pl(prueba4)",
   "outputs": [
    {
     "name": "stderr",
     "output_type": "stream",
     "text": [
      "INFO:functions.processing:Iniciando la eliminación de acentos...\n",
      "INFO:functions.processing:Acentos eliminados!\n"
     ]
    }
   ],
   "execution_count": 11
  },
  {
   "metadata": {
    "ExecuteTime": {
     "end_time": "2024-05-05T16:49:49.752927Z",
     "start_time": "2024-05-05T16:49:49.739055Z"
    }
   },
   "cell_type": "code",
   "source": "prueba6 = standardize_binary_values_pl(prueba5, parameters['parameters_processing'])",
   "outputs": [
    {
     "name": "stderr",
     "output_type": "stream",
     "text": [
      "INFO:functions.processing:Iniciando la estandarización de valores binarios...\n",
      "INFO:functions.processing:Valores binarios estandarizados!\n"
     ]
    }
   ],
   "execution_count": 12
  },
  {
   "metadata": {
    "ExecuteTime": {
     "end_time": "2024-05-05T16:49:50.432054Z",
     "start_time": "2024-05-05T16:49:50.401241Z"
    }
   },
   "cell_type": "code",
   "source": "prueba7 = impute_missing_values_pl(prueba6)",
   "outputs": [
    {
     "name": "stderr",
     "output_type": "stream",
     "text": [
      "INFO:functions.processing:Iniciando la imputación de valores faltantes...\n",
      "INFO:functions.processing:Imputados valores nulos en la columna 'tipo_trabajo' con la moda: administrador negocio\n",
      "INFO:functions.processing:Imputados valores nulos en la columna 'estado_civil' con la moda: casado\n",
      "INFO:functions.processing:Imputados valores nulos en la columna 'educacion' con la moda: pregrado\n",
      "INFO:functions.processing:Imputados valores nulos en la columna 'mora' con la mediana redondeada: 0\n",
      "INFO:functions.processing:Imputados valores nulos en la columna 'posee_vivienda' con la mediana redondeada: 1\n",
      "INFO:functions.processing:Imputados valores nulos en la columna 'posee_vehiculo' con la mediana redondeada: 0\n",
      "INFO:functions.processing:Imputados valores nulos en la columna 'vlr_ingresos' con la mediana: 1502287.936143504\n",
      "INFO:functions.processing:Imputación de valores faltantes completada!\n"
     ]
    }
   ],
   "execution_count": 13
  },
  {
   "metadata": {},
   "cell_type": "markdown",
   "source": "FEATURING DATA"
  },
  {
   "metadata": {
    "ExecuteTime": {
     "end_time": "2024-05-05T16:49:51.420414Z",
     "start_time": "2024-05-05T16:49:51.407076Z"
    }
   },
   "cell_type": "code",
   "source": [
    "# Nodos\n",
    "from functions.featuring import (new_features_pl,\n",
    "                                 add_target_variable_pl)"
   ],
   "outputs": [],
   "execution_count": 14
  },
  {
   "metadata": {
    "ExecuteTime": {
     "end_time": "2024-05-05T16:49:52.233675Z",
     "start_time": "2024-05-05T16:49:52.211297Z"
    }
   },
   "cell_type": "code",
   "source": [
    "processed_data_path = os.path.join(data_processed_directory, parameters['parameters_catalog']['processed_data_path'])\n",
    "\n",
    "data_processed = pl.read_csv(processed_data_path)"
   ],
   "outputs": [],
   "execution_count": 15
  },
  {
   "metadata": {
    "ExecuteTime": {
     "end_time": "2024-05-05T16:49:53.367851Z",
     "start_time": "2024-05-05T16:49:53.352443Z"
    }
   },
   "cell_type": "code",
   "source": "prueba8 = new_features_pl(data_processed, parameters['parameters_featuring'])",
   "outputs": [
    {
     "name": "stderr",
     "output_type": "stream",
     "text": [
      "INFO:functions.featuring:Iniciando la generación de nuevas características...\n",
      "INFO:functions.featuring:Nuevas características generadas!\n"
     ]
    }
   ],
   "execution_count": 16
  },
  {
   "metadata": {
    "ExecuteTime": {
     "end_time": "2024-05-05T16:50:01.738405Z",
     "start_time": "2024-05-05T16:50:01.705382Z"
    }
   },
   "cell_type": "code",
   "source": [
    "target_directory = os.path.join(project_root, 'data', 'processed')\n",
    "target_path = os.path.join(target_directory, parameters['parameters_catalog']['target_column_path'])\n",
    "target = pl.read_csv(target_path)\n",
    "prueba9 = add_target_variable_pl(prueba8, target, parameters['parameters_featuring'])"
   ],
   "outputs": [
    {
     "name": "stderr",
     "output_type": "stream",
     "text": [
      "INFO:functions.featuring:Añadiendo la variable objetivo al DataFrame...\n",
      "INFO:functions.featuring:Variable objetivo añadida!\n"
     ]
    }
   ],
   "execution_count": 17
  },
  {
   "metadata": {},
   "cell_type": "code",
   "outputs": [],
   "execution_count": null,
   "source": ""
  }
 ],
 "metadata": {
  "kernelspec": {
   "display_name": "proyectoTC",
   "language": "python",
   "name": "python3"
  },
  "language_info": {
   "codemirror_mode": {
    "name": "ipython",
    "version": 3
   },
   "file_extension": ".py",
   "mimetype": "text/x-python",
   "name": "python",
   "nbconvert_exporter": "python",
   "pygments_lexer": "ipython3",
   "version": "3.12.0"
  }
 },
 "nbformat": 4,
 "nbformat_minor": 2
}
