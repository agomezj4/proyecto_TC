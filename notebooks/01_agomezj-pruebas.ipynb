{
 "cells": [
  {
   "cell_type": "code",
   "execution_count": 1,
   "metadata": {},
   "outputs": [],
   "source": [
    "import polars as pl\n",
    "import sys\n",
    "import yaml\n",
    "import os\n",
    "import numpy as np\n",
    "import pandas as pd"
   ]
  },
  {
   "cell_type": "code",
   "execution_count": 2,
   "metadata": {},
   "outputs": [],
   "source": [
    "sys.path.append('../src/')\n",
    "project_root = os.path.dirname(os.getcwd())"
   ]
  },
  {
   "cell_type": "code",
   "execution_count": 3,
   "metadata": {},
   "outputs": [],
   "source": [
    "# Directorios para los archivos de parámetros y los datos\n",
    "parameters_directory = os.path.join(project_root, 'src', 'parameters')\n",
    "data_raw_directory = os.path.join(project_root, 'data', 'raw')\n",
    "data_processed_directory = os.path.join(project_root, 'data', 'processed')\n",
    "data_features_directory = os.path.join(project_root, 'data', 'featured')"
   ]
  },
  {
   "cell_type": "code",
   "execution_count": 4,
   "metadata": {},
   "outputs": [],
   "source": [
    "# Lista todos los archivos YAML en el directorio especificado\n",
    "yaml_files = [f for f in os.listdir(parameters_directory) if f.endswith('.yml')]\n",
    "\n",
    "# Diccionario para guardar los parámetros cargados\n",
    "parameters = {}\n",
    "\n",
    "# Carga cada archivo YAML\n",
    "for yaml_file in yaml_files:\n",
    "    with open(os.path.join(parameters_directory, yaml_file), 'r') as file:\n",
    "        data = yaml.safe_load(file)\n",
    "        key_name = f'parameters_{yaml_file.replace(\".yml\", \"\")}'\n",
    "        parameters[key_name] = data"
   ]
  },
  {
   "cell_type": "markdown",
   "metadata": {},
   "source": [
    "PROCESSING DATA"
   ]
  },
  {
   "cell_type": "code",
   "execution_count": 5,
   "metadata": {},
   "outputs": [],
   "source": [
    "# # Nodos\n",
    "# from functions.processing import (validate_tags_pl, \n",
    "#                              validate_dtypes_pl, \n",
    "#                              change_names_pl, \n",
    "#                              change_dtype_pl,\n",
    "#                              delete_accents_pl,\n",
    "#                              standardize_binary_values_pl,\n",
    "#                              impute_missing_values_pl)"
   ]
  },
  {
   "cell_type": "code",
   "execution_count": 6,
   "metadata": {},
   "outputs": [],
   "source": [
    "# tag_dict_path = os.path.join(data_raw_directory, parameters['parameters_catalog']['tag_dict_path'])\n",
    "# raw_data_path = os.path.join(data_raw_directory, parameters['parameters_catalog']['raw_data_path'])\n",
    "# \n",
    "# tag_dict = pl.read_excel(tag_dict_path)\n",
    "# data_raw = pl.read_csv(raw_data_path)"
   ]
  },
  {
   "cell_type": "code",
   "execution_count": 7,
   "metadata": {},
   "outputs": [],
   "source": [
    "# prueba1 = validate_tags_pl(data_raw, tag_dict)"
   ]
  },
  {
   "cell_type": "code",
   "execution_count": 8,
   "metadata": {},
   "outputs": [],
   "source": [
    "# prueba2 = validate_dtypes_pl(prueba1, tag_dict)"
   ]
  },
  {
   "cell_type": "code",
   "execution_count": 9,
   "metadata": {},
   "outputs": [],
   "source": [
    "# prueba3 = change_names_pl(prueba2, tag_dict)"
   ]
  },
  {
   "cell_type": "code",
   "execution_count": 10,
   "metadata": {},
   "outputs": [],
   "source": [
    "# prueba4 = change_dtype_pl(prueba3, tag_dict)"
   ]
  },
  {
   "cell_type": "code",
   "execution_count": 11,
   "metadata": {},
   "outputs": [],
   "source": [
    "# prueba5 = delete_accents_pl(prueba4)"
   ]
  },
  {
   "cell_type": "code",
   "execution_count": 12,
   "metadata": {},
   "outputs": [],
   "source": [
    "# prueba6 = standardize_binary_values_pl(prueba5, parameters['parameters_processing'])"
   ]
  },
  {
   "cell_type": "code",
   "execution_count": 13,
   "metadata": {},
   "outputs": [],
   "source": [
    "# prueba7 = impute_missing_values_pl(prueba6)"
   ]
  },
  {
   "cell_type": "markdown",
   "metadata": {},
   "source": [
    "FEATURING DATA"
   ]
  },
  {
   "cell_type": "code",
   "execution_count": 14,
   "metadata": {},
   "outputs": [],
   "source": [
    "# # Nodos\n",
    "# from functions.featuring import (new_features_pl,\n",
    "#                                  add_target_variable_pl,\n",
    "#                                  one_hot_encoding_pl,\n",
    "#                                  random_forest_selection_pl,\n",
    "#                                  conditional_entropy_selection_pl,\n",
    "#                                  intersect_top_features_pl)`"
   ]
  },
  {
   "cell_type": "code",
   "execution_count": 15,
   "metadata": {},
   "outputs": [],
   "source": [
    "# processed_data_path = os.path.join(data_processed_directory, parameters['parameters_catalog']['processed_data_path'])\n",
    "#\n",
    "# data_processed = pl.read_csv(processed_data_path)"
   ]
  },
  {
   "cell_type": "code",
   "execution_count": 16,
   "metadata": {},
   "outputs": [],
   "source": [
    "# prueba8 = new_features_pl(data_processed, parameters['parameters_featuring'])"
   ]
  },
  {
   "cell_type": "code",
   "execution_count": 17,
   "metadata": {},
   "outputs": [],
   "source": [
    "# target_directory = os.path.join(project_root, 'data', 'processed')\n",
    "# target_path = os.path.join(target_directory, parameters['parameters_catalog']['target_column_path'])\n",
    "# target = pl.read_csv(target_path)\n",
    "# prueba9 = add_target_variable_pl(prueba8, target, parameters['parameters_featuring'])"
   ]
  },
  {
   "cell_type": "code",
   "execution_count": 18,
   "metadata": {},
   "outputs": [],
   "source": [
    "# prueba10 = one_hot_encoding_pl(prueba9, parameters['parameters_featuring'])"
   ]
  },
  {
   "cell_type": "code",
   "execution_count": 19,
   "metadata": {},
   "outputs": [],
   "source": [
    "# prueba11 = random_forest_selection_pl(prueba10, parameters['parameters_featuring'])"
   ]
  },
  {
   "cell_type": "code",
   "execution_count": 20,
   "metadata": {},
   "outputs": [],
   "source": [
    "# prueba12 = conditional_entropy_selection_pl(prueba10, parameters['parameters_featuring'])"
   ]
  },
  {
   "cell_type": "code",
   "execution_count": 21,
   "metadata": {},
   "outputs": [],
   "source": [
    "# prueba13 = intersect_top_features_pl(prueba11, prueba12, prueba10, parameters['parameters_featuring'])"
   ]
  },
  {
   "cell_type": "markdown",
   "metadata": {},
   "source": [
    "MODEL INPUT DATA"
   ]
  },
  {
   "cell_type": "code",
   "execution_count": 22,
   "metadata": {},
   "outputs": [],
   "source": [
    "# Nodos\n",
    "from functions.model_input import (min_max_scaler_pl,\n",
    "                                   balance_target_variable_pl,\n",
    "                                   train_test_split_pl)"
   ]
  },
  {
   "cell_type": "code",
   "execution_count": 23,
   "metadata": {},
   "outputs": [],
   "source": [
    "featured_data_path = os.path.join(data_features_directory, parameters['parameters_catalog']['features_data_path'])\n",
    "\n",
    "data_featured = pl.read_csv(featured_data_path)"
   ]
  },
  {
   "cell_type": "code",
   "execution_count": 24,
   "metadata": {},
   "outputs": [
    {
     "name": "stderr",
     "output_type": "stream",
     "text": [
      "INFO:functions.model_input:Iniciando la estandarización con Min-Max Scaler...\n",
      "INFO:functions.model_input:Estandarización con Min-Max Scaler completada!\n"
     ]
    }
   ],
   "source": [
    "prueba14 = min_max_scaler_pl(data_featured)"
   ]
  },
  {
   "cell_type": "code",
   "execution_count": 25,
   "metadata": {},
   "outputs": [
    {
     "name": "stderr",
     "output_type": "stream",
     "text": [
      "INFO:functions.model_input:Iniciando el balanceo de la variable objetivo con SMOTE...\n",
      "INFO:functions.model_input:Conteo de clases antes del balanceo: shape: (2, 2)\n",
      "┌────────┬───────┐\n",
      "│ target ┆ count │\n",
      "│ ---    ┆ ---   │\n",
      "│ i64    ┆ u32   │\n",
      "╞════════╪═══════╡\n",
      "│ 1      ┆ 2590  │\n",
      "│ 0      ┆ 20509 │\n",
      "└────────┴───────┘\n",
      "INFO:functions.model_input:Conteo de clases después del balanceo: shape: (2, 2)\n",
      "┌────────┬───────┐\n",
      "│ target ┆ count │\n",
      "│ ---    ┆ ---   │\n",
      "│ i64    ┆ u32   │\n",
      "╞════════╪═══════╡\n",
      "│ 0      ┆ 20509 │\n",
      "│ 1      ┆ 13330 │\n",
      "└────────┴───────┘\n",
      "INFO:functions.model_input:Balanceo de la variable objetivo con SMOTE completado!\n"
     ]
    }
   ],
   "source": [
    "prueba15 = balance_target_variable_pl(prueba14, parameters['parameters_model_input'])"
   ]
  },
  {
   "cell_type": "code",
   "execution_count": 26,
   "metadata": {},
   "outputs": [
    {
     "name": "stderr",
     "output_type": "stream",
     "text": [
      "INFO:functions.model_input:Iniciando la división de datos en entrenamiento y prueba...\n",
      "INFO:functions.model_input:División de datos en entrenamiento y prueba completada!\n"
     ]
    }
   ],
   "source": [
    "prueba16 = train_test_split_pl(prueba15, parameters['parameters_model_input'])"
   ]
  },
  {
   "cell_type": "code",
   "execution_count": 27,
   "metadata": {},
   "outputs": [
    {
     "data": {
      "text/plain": [
       "(shape: (21_995, 21)\n",
       " ┌────────────┬───────────┬────────────┬────────────┬───┬──────────┬───────────┬───────────┬────────┐\n",
       " │ var_negoci ┆ marg_cont ┆ tipo_conta ┆ var_negoci ┆ … ┆ edad     ┆ var_negoc ┆ mes_conta ┆ target │\n",
       " │ o_1        ┆ ---       ┆ cto_otro   ┆ o_5        ┆   ┆ ---      ┆ io_2      ┆ cto_oct   ┆ ---    │\n",
       " │ ---        ┆ f64       ┆ ---        ┆ ---        ┆   ┆ f64      ┆ ---       ┆ ---       ┆ i64    │\n",
       " │ f64        ┆           ┆ i64        ┆ f64        ┆   ┆          ┆ f64       ┆ i64       ┆        │\n",
       " ╞════════════╪═══════════╪════════════╪════════════╪═══╪══════════╪═══════════╪═══════════╪════════╡\n",
       " │ 1.0        ┆ 0.603053  ┆ 0          ┆ 1.0        ┆ … ┆ 0.103896 ┆ 0.99681   ┆ 0         ┆ 0      │\n",
       " │ 0.9375     ┆ 0.0       ┆ 0          ┆ 0.859848   ┆ … ┆ 0.155844 ┆ 0.991835  ┆ 0         ┆ 0      │\n",
       " │ 0.9375     ┆ 0.116715  ┆ 0          ┆ 0.859848   ┆ … ┆ 0.506494 ┆ 0.991835  ┆ 0         ┆ 0      │\n",
       " │ 0.9375     ┆ 0.02936   ┆ 0          ┆ 0.859848   ┆ … ┆ 0.272727 ┆ 0.991835  ┆ 0         ┆ 0      │\n",
       " │ 0.104167   ┆ 0.113533  ┆ 1          ┆ 0.424242   ┆ … ┆ 0.228069 ┆ 0.980945  ┆ 0         ┆ 1      │\n",
       " │ …          ┆ …         ┆ …          ┆ …          ┆ … ┆ …        ┆ …         ┆ …         ┆ …      │\n",
       " │ 0.333333   ┆ 0.0       ┆ 1          ┆ 0.511364   ┆ … ┆ 0.194805 ┆ 0.980206  ┆ 0         ┆ 0      │\n",
       " │ 0.9375     ┆ 0.068281  ┆ 0          ┆ 0.859848   ┆ … ┆ 0.428571 ┆ 0.991835  ┆ 0         ┆ 0      │\n",
       " │ 0.333333   ┆ 0.112421  ┆ 1          ┆ 0.511364   ┆ … ┆ 0.540615 ┆ 0.982128  ┆ 0         ┆ 1      │\n",
       " │ 0.354167   ┆ 0.004892  ┆ 1          ┆ 0.106061   ┆ … ┆ 0.441558 ┆ 0.992184  ┆ 0         ┆ 0      │\n",
       " │ 0.333333   ┆ 0.086743  ┆ 1          ┆ 0.511364   ┆ … ┆ 0.168831 ┆ 0.980206  ┆ 0         ┆ 0      │\n",
       " └────────────┴───────────┴────────────┴────────────┴───┴──────────┴───────────┴───────────┴────────┘,\n",
       " shape: (11_844, 21)\n",
       " ┌────────────┬───────────┬────────────┬────────────┬───┬──────────┬───────────┬───────────┬────────┐\n",
       " │ var_negoci ┆ marg_cont ┆ tipo_conta ┆ var_negoci ┆ … ┆ edad     ┆ var_negoc ┆ mes_conta ┆ target │\n",
       " │ o_1        ┆ ---       ┆ cto_otro   ┆ o_5        ┆   ┆ ---      ┆ io_2      ┆ cto_oct   ┆ ---    │\n",
       " │ ---        ┆ f64       ┆ ---        ┆ ---        ┆   ┆ f64      ┆ ---       ┆ ---       ┆ i64    │\n",
       " │ f64        ┆           ┆ i64        ┆ f64        ┆   ┆          ┆ f64       ┆ i64       ┆        │\n",
       " ╞════════════╪═══════════╪════════════╪════════════╪═══╪══════════╪═══════════╪═══════════╪════════╡\n",
       " │ 0.9375     ┆ 0.084332  ┆ 0          ┆ 0.859848   ┆ … ┆ 0.149585 ┆ 0.991835  ┆ 0         ┆ 1      │\n",
       " │ 0.6875     ┆ 0.084617  ┆ 1          ┆ 0.878788   ┆ … ┆ 0.442438 ┆ 0.0       ┆ 0         ┆ 1      │\n",
       " │ 1.0        ┆ 0.0       ┆ 1          ┆ 1.0        ┆ … ┆ 0.155844 ┆ 0.986026  ┆ 0         ┆ 0      │\n",
       " │ 1.0        ┆ 0.077649  ┆ 1          ┆ 1.0        ┆ … ┆ 0.194805 ┆ 0.991032  ┆ 0         ┆ 0      │\n",
       " │ 0.333333   ┆ 0.073108  ┆ 1          ┆ 0.511364   ┆ … ┆ 0.064935 ┆ 0.980206  ┆ 0         ┆ 0      │\n",
       " │ …          ┆ …         ┆ …          ┆ …          ┆ … ┆ …        ┆ …         ┆ …         ┆ …      │\n",
       " │ 0.333333   ┆ 0.008193  ┆ 1          ┆ 0.511364   ┆ … ┆ 0.194805 ┆ 0.980206  ┆ 0         ┆ 1      │\n",
       " │ 1.0        ┆ 0.059928  ┆ 0          ┆ 1.0        ┆ … ┆ 0.181818 ┆ 0.99681   ┆ 0         ┆ 0      │\n",
       " │ 1.0        ┆ 0.001301  ┆ 1          ┆ 1.0        ┆ … ┆ 0.06882  ┆ 0.991032  ┆ 0         ┆ 1      │\n",
       " │ 0.479167   ┆ 0.083503  ┆ 1          ┆ 0.0        ┆ … ┆ 0.288769 ┆ 0.994     ┆ 0         ┆ 1      │\n",
       " │ 1.0        ┆ 0.102191  ┆ 0          ┆ 1.0        ┆ … ┆ 0.272727 ┆ 0.991032  ┆ 0         ┆ 1      │\n",
       " └────────────┴───────────┴────────────┴────────────┴───┴──────────┴───────────┴───────────┴────────┘)"
      ]
     },
     "execution_count": 27,
     "metadata": {},
     "output_type": "execute_result"
    }
   ],
   "source": [
    "prueba16"
   ]
  },
  {
   "cell_type": "code",
   "execution_count": null,
   "metadata": {},
   "outputs": [],
   "source": []
  }
 ],
 "metadata": {
  "kernelspec": {
   "display_name": "Python 3 (ipykernel)",
   "language": "python",
   "name": "python3"
  },
  "language_info": {
   "codemirror_mode": {
    "name": "ipython",
    "version": 3
   },
   "file_extension": ".py",
   "mimetype": "text/x-python",
   "name": "python",
   "nbconvert_exporter": "python",
   "pygments_lexer": "ipython3",
   "version": "3.11.0"
  }
 },
 "nbformat": 4,
 "nbformat_minor": 4
}
