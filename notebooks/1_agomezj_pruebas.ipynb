{
 "cells": [
  {
   "cell_type": "code",
   "metadata": {
    "ExecuteTime": {
     "end_time": "2024-05-01T19:22:50.136329Z",
     "start_time": "2024-05-01T19:22:50.044698Z"
    }
   },
   "source": [
    "import polars as pl\n",
    "import sys\n",
    "import yaml"
   ],
   "outputs": [],
   "execution_count": 1
  },
  {
   "cell_type": "code",
   "metadata": {
    "ExecuteTime": {
     "end_time": "2024-05-01T19:22:50.326824Z",
     "start_time": "2024-05-01T19:22:50.323594Z"
    }
   },
   "source": [
    "sys.path.append('../src/')"
   ],
   "outputs": [],
   "execution_count": 2
  },
  {
   "metadata": {
    "ExecuteTime": {
     "end_time": "2024-05-01T19:22:50.511720Z",
     "start_time": "2024-05-01T19:22:50.507731Z"
    }
   },
   "cell_type": "code",
   "source": [
    "# Rutas\n",
    "from paths.path import (raw_data_path, \n",
    "                        tag_dict_path, \n",
    "                        parameters_processing_path)"
   ],
   "outputs": [],
   "execution_count": 3
  },
  {
   "metadata": {
    "ExecuteTime": {
     "end_time": "2024-05-01T19:22:50.703979Z",
     "start_time": "2024-05-01T19:22:50.699417Z"
    }
   },
   "cell_type": "code",
   "source": [
    "yaml_files = [\n",
    "    ('processing', '../'+parameters_processing_path),\n",
    "]\n",
    "\n",
    "parameters = {}\n",
    "\n",
    "for identifier, yaml_path in yaml_files:\n",
    "    with open(yaml_path, 'r') as file:\n",
    "        data = yaml.safe_load(file)\n",
    "        key_name = f'parameters_{identifier}'\n",
    "        parameters[key_name] = data"
   ],
   "outputs": [],
   "execution_count": 4
  },
  {
   "metadata": {},
   "cell_type": "markdown",
   "source": "PROCESSING DATA"
  },
  {
   "metadata": {
    "ExecuteTime": {
     "end_time": "2024-05-01T19:22:51.075586Z",
     "start_time": "2024-05-01T19:22:51.068164Z"
    }
   },
   "cell_type": "code",
   "source": [
    "# Nodos\n",
    "from functions.processing import (validate_tags_pl, \n",
    "                             validate_dtypes_pl, \n",
    "                             change_names_pl, \n",
    "                             change_dtype_pl,\n",
    "                             delete_accents_pl,\n",
    "                             standardize_binary_values_pl,\n",
    "                             impute_missing_values_pl)"
   ],
   "outputs": [],
   "execution_count": 5
  },
  {
   "cell_type": "code",
   "metadata": {
    "ExecuteTime": {
     "end_time": "2024-05-01T19:22:51.445413Z",
     "start_time": "2024-05-01T19:22:51.417117Z"
    }
   },
   "source": [
    "raw_data = pl.read_csv('../'+ raw_data_path)\n",
    "tag_dict = pl.read_excel('../'+ tag_dict_path)"
   ],
   "outputs": [],
   "execution_count": 6
  },
  {
   "cell_type": "code",
   "metadata": {
    "ExecuteTime": {
     "end_time": "2024-05-01T19:22:51.590308Z",
     "start_time": "2024-05-01T19:22:51.587025Z"
    }
   },
   "source": "prueba1 = validate_tags_pl(raw_data, tag_dict)",
   "outputs": [
    {
     "name": "stderr",
     "output_type": "stream",
     "text": [
      "INFO:functions.processing:Iniciando la validación de tags...\n",
      "INFO:functions.processing:Tags validados!\n"
     ]
    }
   ],
   "execution_count": 7
  },
  {
   "cell_type": "code",
   "metadata": {
    "ExecuteTime": {
     "end_time": "2024-05-01T19:22:51.774660Z",
     "start_time": "2024-05-01T19:22:51.767198Z"
    }
   },
   "source": "prueba2 = validate_dtypes_pl(prueba1, tag_dict)",
   "outputs": [
    {
     "name": "stderr",
     "output_type": "stream",
     "text": [
      "INFO:functions.processing:Iniciando la validación de tipos de datos...\n",
      "INFO:functions.processing:Tipos de datos validados correctamente!\n"
     ]
    }
   ],
   "execution_count": 8
  },
  {
   "metadata": {
    "ExecuteTime": {
     "end_time": "2024-05-01T19:22:51.944804Z",
     "start_time": "2024-05-01T19:22:51.941018Z"
    }
   },
   "cell_type": "code",
   "source": "prueba3 = change_names_pl(prueba2, tag_dict)",
   "outputs": [
    {
     "name": "stderr",
     "output_type": "stream",
     "text": [
      "INFO:functions.processing:Iniciando el cambio de nombres...\n",
      "INFO:functions.processing:Nombres de columnas cambiados\n"
     ]
    }
   ],
   "execution_count": 9
  },
  {
   "metadata": {
    "ExecuteTime": {
     "end_time": "2024-05-01T19:22:52.309644Z",
     "start_time": "2024-05-01T19:22:52.303266Z"
    }
   },
   "cell_type": "code",
   "source": "prueba4 = change_dtype_pl(prueba3, tag_dict)",
   "outputs": [
    {
     "name": "stderr",
     "output_type": "stream",
     "text": [
      "INFO:functions.processing:Iniciando el cambio de tipos de datos...\n",
      "INFO:functions.processing:Dtypes cambiados!\n"
     ]
    }
   ],
   "execution_count": 10
  },
  {
   "metadata": {
    "ExecuteTime": {
     "end_time": "2024-05-01T19:22:52.936302Z",
     "start_time": "2024-05-01T19:22:52.897449Z"
    }
   },
   "cell_type": "code",
   "source": "prueba5 = delete_accents_pl(prueba4)",
   "outputs": [
    {
     "name": "stderr",
     "output_type": "stream",
     "text": [
      "INFO:functions.processing:Iniciando la eliminación de acentos...\n",
      "INFO:functions.processing:Acentos eliminados!\n"
     ]
    }
   ],
   "execution_count": 11
  },
  {
   "metadata": {
    "ExecuteTime": {
     "end_time": "2024-05-01T19:22:53.539768Z",
     "start_time": "2024-05-01T19:22:53.530147Z"
    }
   },
   "cell_type": "code",
   "source": "prueba6 = standardize_binary_values_pl(prueba5, parameters['parameters_processing'])",
   "outputs": [
    {
     "name": "stderr",
     "output_type": "stream",
     "text": [
      "INFO:functions.processing:Iniciando la estandarización de valores binarios...\n",
      "INFO:functions.processing:Valores binarios estandarizados!\n"
     ]
    }
   ],
   "execution_count": 12
  },
  {
   "metadata": {
    "ExecuteTime": {
     "end_time": "2024-05-01T19:22:54.187361Z",
     "start_time": "2024-05-01T19:22:54.160553Z"
    }
   },
   "cell_type": "code",
   "source": "prueba7 = impute_missing_values_pl(prueba6)",
   "outputs": [
    {
     "name": "stderr",
     "output_type": "stream",
     "text": [
      "INFO:functions.processing:Iniciando la imputación de valores faltantes...\n",
      "INFO:functions.processing:Imputados valores nulos en la columna 'tipo_trabajo' con la moda: administrador negocio\n",
      "INFO:functions.processing:Imputados valores nulos en la columna 'estado_civil' con la moda: casado\n",
      "INFO:functions.processing:Imputados valores nulos en la columna 'educacion' con la moda: pregrado\n",
      "INFO:functions.processing:Imputados valores nulos en la columna 'mora' con la mediana redondeada: 0\n",
      "INFO:functions.processing:Imputados valores nulos en la columna 'posee_vivienda' con la mediana redondeada: 1\n",
      "INFO:functions.processing:Imputados valores nulos en la columna 'posee_vehiculo' con la mediana redondeada: 0\n",
      "INFO:functions.processing:Imputados valores nulos en la columna 'vlr_ingresos' con la mediana: 1502287.936143504\n",
      "INFO:functions.processing:Imputación de valores faltantes completada!\n"
     ]
    }
   ],
   "execution_count": 13
  },
  {
   "metadata": {},
   "cell_type": "code",
   "outputs": [],
   "execution_count": null,
   "source": ""
  }
 ],
 "metadata": {
  "kernelspec": {
   "display_name": "proyectoTC",
   "language": "python",
   "name": "python3"
  },
  "language_info": {
   "codemirror_mode": {
    "name": "ipython",
    "version": 3
   },
   "file_extension": ".py",
   "mimetype": "text/x-python",
   "name": "python",
   "nbconvert_exporter": "python",
   "pygments_lexer": "ipython3",
   "version": "3.12.0"
  }
 },
 "nbformat": 4,
 "nbformat_minor": 2
}
