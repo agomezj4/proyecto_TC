{
 "cells": [
  {
   "cell_type": "code",
   "metadata": {
    "ExecuteTime": {
     "end_time": "2024-04-24T21:48:50.858908Z",
     "start_time": "2024-04-24T21:48:50.703980Z"
    }
   },
   "source": [
    "import polars as pl\n",
    "import sys"
   ],
   "outputs": [],
   "execution_count": 1
  },
  {
   "cell_type": "code",
   "metadata": {
    "ExecuteTime": {
     "end_time": "2024-04-24T21:48:51.003163Z",
     "start_time": "2024-04-24T21:48:51.000806Z"
    }
   },
   "source": [
    "sys.path.append('../src/')"
   ],
   "outputs": [],
   "execution_count": 2
  },
  {
   "metadata": {},
   "cell_type": "markdown",
   "source": "PROCESS DATA"
  },
  {
   "cell_type": "code",
   "metadata": {
    "ExecuteTime": {
     "end_time": "2024-04-24T21:48:51.878892Z",
     "start_time": "2024-04-24T21:48:51.824079Z"
    }
   },
   "source": [
    "from paths.path import raw_data_path, tag_dict_path\n",
    "from functions.process import (validate_tags_pl, \n",
    "                             validate_dtypes_pl, \n",
    "                               change_names_pl, \n",
    "                               change_dtype_pl)"
   ],
   "outputs": [],
   "execution_count": 3
  },
  {
   "cell_type": "code",
   "metadata": {
    "ExecuteTime": {
     "end_time": "2024-04-24T21:48:52.471121Z",
     "start_time": "2024-04-24T21:48:52.361930Z"
    }
   },
   "source": [
    "raw_data = pl.read_csv('../'+ raw_data_path)\n",
    "tag_dict = pl.read_excel('../'+ tag_dict_path)"
   ],
   "outputs": [],
   "execution_count": 4
  },
  {
   "cell_type": "code",
   "metadata": {
    "ExecuteTime": {
     "end_time": "2024-04-24T21:48:52.813304Z",
     "start_time": "2024-04-24T21:48:52.800170Z"
    }
   },
   "source": "prueba1 = validate_tags_pl(raw_data, tag_dict)",
   "outputs": [
    {
     "name": "stderr",
     "output_type": "stream",
     "text": [
      "INFO:functions.process:Iniciando la validación de tags...\n",
      "INFO:functions.process:Tags validados!\n"
     ]
    }
   ],
   "execution_count": 5
  },
  {
   "cell_type": "code",
   "metadata": {
    "ExecuteTime": {
     "end_time": "2024-04-24T21:48:53.306437Z",
     "start_time": "2024-04-24T21:48:53.292894Z"
    }
   },
   "source": "prueba2 = validate_dtypes_pl(prueba1, tag_dict)",
   "outputs": [
    {
     "name": "stderr",
     "output_type": "stream",
     "text": [
      "INFO:functions.process:Iniciando la validación de tipos de datos...\n",
      "INFO:functions.process:Tipos de datos validados correctamente!\n"
     ]
    }
   ],
   "execution_count": 6
  },
  {
   "metadata": {
    "ExecuteTime": {
     "end_time": "2024-04-24T21:48:54.165061Z",
     "start_time": "2024-04-24T21:48:54.146637Z"
    }
   },
   "cell_type": "code",
   "source": "prueba3 = change_names_pl(prueba2, tag_dict)",
   "outputs": [
    {
     "name": "stderr",
     "output_type": "stream",
     "text": [
      "INFO:functions.process:Iniciando el cambio de nombres...\n",
      "INFO:functions.process:Nombres de columnas cambiados\n"
     ]
    }
   ],
   "execution_count": 7
  },
  {
   "metadata": {
    "ExecuteTime": {
     "end_time": "2024-04-24T21:48:56.876155Z",
     "start_time": "2024-04-24T21:48:56.810967Z"
    }
   },
   "cell_type": "code",
   "source": "prueba4 = change_dtype_pl(prueba3, tag_dict)",
   "outputs": [
    {
     "name": "stderr",
     "output_type": "stream",
     "text": [
      "INFO:functions.process:Iniciando el cambio de tipos de datos...\n",
      "INFO:functions.process:Dtypes cambiados!\n"
     ]
    }
   ],
   "execution_count": 9
  },
  {
   "metadata": {},
   "cell_type": "code",
   "outputs": [],
   "execution_count": null,
   "source": ""
  }
 ],
 "metadata": {
  "kernelspec": {
   "display_name": "proyectoTC",
   "language": "python",
   "name": "python3"
  },
  "language_info": {
   "codemirror_mode": {
    "name": "ipython",
    "version": 3
   },
   "file_extension": ".py",
   "mimetype": "text/x-python",
   "name": "python",
   "nbconvert_exporter": "python",
   "pygments_lexer": "ipython3",
   "version": "3.12.0"
  }
 },
 "nbformat": 4,
 "nbformat_minor": 2
}
