{
 "cells": [
  {
   "cell_type": "code",
   "metadata": {
    "ExecuteTime": {
     "end_time": "2024-04-25T21:44:11.333720Z",
     "start_time": "2024-04-25T21:44:11.211803Z"
    }
   },
   "source": [
    "import polars as pl\n",
    "import sys"
   ],
   "outputs": [],
   "execution_count": 1
  },
  {
   "cell_type": "code",
   "metadata": {
    "ExecuteTime": {
     "end_time": "2024-04-25T21:44:11.448839Z",
     "start_time": "2024-04-25T21:44:11.446625Z"
    }
   },
   "source": [
    "sys.path.append('../src/')"
   ],
   "outputs": [],
   "execution_count": 2
  },
  {
   "metadata": {},
   "cell_type": "markdown",
   "source": "PROCESS DATA"
  },
  {
   "cell_type": "code",
   "metadata": {
    "ExecuteTime": {
     "end_time": "2024-04-25T21:44:11.794103Z",
     "start_time": "2024-04-25T21:44:11.788634Z"
    }
   },
   "source": [
    "from paths.path import raw_data_path, tag_dict_path\n",
    "from functions.process import (validate_tags_pl, \n",
    "                             validate_dtypes_pl, \n",
    "                               change_names_pl, \n",
    "                               change_dtype_pl,\n",
    "                               delete_accents_pl)"
   ],
   "outputs": [],
   "execution_count": 3
  },
  {
   "cell_type": "code",
   "metadata": {
    "ExecuteTime": {
     "end_time": "2024-04-25T21:44:12.073170Z",
     "start_time": "2024-04-25T21:44:12.000222Z"
    }
   },
   "source": [
    "raw_data = pl.read_csv('../'+ raw_data_path)\n",
    "tag_dict = pl.read_excel('../'+ tag_dict_path)"
   ],
   "outputs": [],
   "execution_count": 4
  },
  {
   "cell_type": "code",
   "metadata": {
    "ExecuteTime": {
     "end_time": "2024-04-25T21:44:12.355821Z",
     "start_time": "2024-04-25T21:44:12.348332Z"
    }
   },
   "source": "prueba1 = validate_tags_pl(raw_data, tag_dict)",
   "outputs": [
    {
     "name": "stderr",
     "output_type": "stream",
     "text": [
      "INFO:functions.process:Iniciando la validación de tags...\n",
      "INFO:functions.process:Tags validados!\n"
     ]
    }
   ],
   "execution_count": 5
  },
  {
   "cell_type": "code",
   "metadata": {
    "ExecuteTime": {
     "end_time": "2024-04-25T21:44:12.639280Z",
     "start_time": "2024-04-25T21:44:12.632763Z"
    }
   },
   "source": "prueba2 = validate_dtypes_pl(prueba1, tag_dict)",
   "outputs": [
    {
     "name": "stderr",
     "output_type": "stream",
     "text": [
      "INFO:functions.process:Iniciando la validación de tipos de datos...\n",
      "INFO:functions.process:Tipos de datos validados correctamente!\n"
     ]
    }
   ],
   "execution_count": 6
  },
  {
   "metadata": {
    "ExecuteTime": {
     "end_time": "2024-04-25T21:44:12.854451Z",
     "start_time": "2024-04-25T21:44:12.849399Z"
    }
   },
   "cell_type": "code",
   "source": "prueba3 = change_names_pl(prueba2, tag_dict)",
   "outputs": [
    {
     "name": "stderr",
     "output_type": "stream",
     "text": [
      "INFO:functions.process:Iniciando el cambio de nombres...\n",
      "INFO:functions.process:Nombres de columnas cambiados\n"
     ]
    }
   ],
   "execution_count": 7
  },
  {
   "metadata": {
    "ExecuteTime": {
     "end_time": "2024-04-25T21:44:13.307087Z",
     "start_time": "2024-04-25T21:44:13.297150Z"
    }
   },
   "cell_type": "code",
   "source": "prueba4 = change_dtype_pl(prueba3, tag_dict)",
   "outputs": [
    {
     "name": "stderr",
     "output_type": "stream",
     "text": [
      "INFO:functions.process:Iniciando el cambio de tipos de datos...\n",
      "INFO:functions.process:Dtypes cambiados!\n"
     ]
    }
   ],
   "execution_count": 8
  },
  {
   "metadata": {
    "ExecuteTime": {
     "end_time": "2024-04-25T21:44:14.710380Z",
     "start_time": "2024-04-25T21:44:14.679687Z"
    }
   },
   "cell_type": "code",
   "source": "prueba5 = delete_accents_pl(prueba4)",
   "outputs": [
    {
     "name": "stderr",
     "output_type": "stream",
     "text": [
      "INFO:functions.process:Iniciando la eliminación de acentos...\n",
      "INFO:functions.process:Acentos eliminados!\n"
     ]
    }
   ],
   "execution_count": 9
  },
  {
   "metadata": {},
   "cell_type": "code",
   "outputs": [],
   "execution_count": null,
   "source": ""
  },
  {
   "metadata": {},
   "cell_type": "code",
   "outputs": [],
   "execution_count": null,
   "source": ""
  }
 ],
 "metadata": {
  "kernelspec": {
   "display_name": "proyectoTC",
   "language": "python",
   "name": "python3"
  },
  "language_info": {
   "codemirror_mode": {
    "name": "ipython",
    "version": 3
   },
   "file_extension": ".py",
   "mimetype": "text/x-python",
   "name": "python",
   "nbconvert_exporter": "python",
   "pygments_lexer": "ipython3",
   "version": "3.12.0"
  }
 },
 "nbformat": 4,
 "nbformat_minor": 2
}
